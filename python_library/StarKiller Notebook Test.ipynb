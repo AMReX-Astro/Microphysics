{
 "cells": [
  {
   "cell_type": "code",
   "execution_count": 1,
   "metadata": {},
   "outputs": [],
   "source": [
    "import StarKillerMicrophysics\n",
    "import numpy as np"
   ]
  },
  {
   "cell_type": "code",
   "execution_count": 2,
   "metadata": {},
   "outputs": [],
   "source": [
    "StarKillerMicrophysics.starkiller_initialization_module.starkiller_initialize(\"probin.ignition\")"
   ]
  },
  {
   "cell_type": "code",
   "execution_count": 3,
   "metadata": {},
   "outputs": [],
   "source": [
    "eos_type_module = StarKillerMicrophysics.Eos_Type_Module()"
   ]
  },
  {
   "cell_type": "code",
   "execution_count": 4,
   "metadata": {},
   "outputs": [],
   "source": [
    "eos_state = eos_type_module.eos_t()"
   ]
  },
  {
   "cell_type": "code",
   "execution_count": 5,
   "metadata": {},
   "outputs": [],
   "source": [
    "eos_state.rho = 1.0e9\n",
    "eos_state.t = 1.0e9\n",
    "eos_state.xn = np.array([0.5, 0.5, 0.0], dtype=np.float64)"
   ]
  },
  {
   "cell_type": "code",
   "execution_count": 6,
   "metadata": {},
   "outputs": [],
   "source": [
    "eos_module = StarKillerMicrophysics.Eos_Module()"
   ]
  },
  {
   "cell_type": "code",
   "execution_count": 7,
   "metadata": {},
   "outputs": [],
   "source": [
    "eos_module.eos(eos_type_module.eos_input_rt, eos_state)"
   ]
  },
  {
   "cell_type": "code",
   "execution_count": 8,
   "metadata": {},
   "outputs": [],
   "source": [
    "burn_type_module = StarKillerMicrophysics.Burn_Type_Module()"
   ]
  },
  {
   "cell_type": "code",
   "execution_count": 9,
   "metadata": {},
   "outputs": [],
   "source": [
    "burn_state_in = burn_type_module.burn_t()"
   ]
  },
  {
   "cell_type": "code",
   "execution_count": 10,
   "metadata": {},
   "outputs": [],
   "source": [
    "burn_type_module.eos_to_burn(eos_state, burn_state_in)"
   ]
  },
  {
   "cell_type": "code",
   "execution_count": 11,
   "metadata": {},
   "outputs": [
    {
     "name": "stdout",
     "output_type": "stream",
     "text": [
      "<burn_t>{\n",
      "    rho : 1000000000.0,\n",
      "    t : 1000000000.0,\n",
      "    e : 9093942971606664.0,\n",
      "    xn : array([0.5, 0.5, 0. ]),\n",
      "    cv : 9093942.971606664,\n",
      "    cp : 15156571.619344441,\n",
      "    y_e : 0.5,\n",
      "    eta : 0.0,\n",
      "    cs : 100520550.53352505,\n",
      "    dx : 0.0,\n",
      "    abar : 13.714285714285715,\n",
      "    zbar : 6.857142857142858,\n",
      "    t_old : 0.0,\n",
      "    dcvdt : 0.0,\n",
      "    dcpdt : 0.0,\n",
      "    ydot : array([0., 0., 0.]),\n",
      "    jac : array([[0.00000000e+000, 0.00000000e+000, 0.00000000e+000],\n",
      "       [0.00000000e+000, 0.00000000e+000, 0.00000000e+000],\n",
      "       [0.00000000e+000, 3.86603726e-050, 6.91431113e-310]]),\n",
      "    self_heat : 129,\n",
      "    i : 0,\n",
      "    j : 27396704,\n",
      "    k : 0,\n",
      "    n_rhs : 289303528,\n",
      "    n_jac : 32584,\n",
      "    time : -1.585940992520034e-150,\n",
      "    success : 0}\n"
     ]
    }
   ],
   "source": [
    "print(burn_state_in)"
   ]
  },
  {
   "cell_type": "code",
   "execution_count": 12,
   "metadata": {},
   "outputs": [],
   "source": [
    "burn_state_out = burn_type_module.burn_t()"
   ]
  },
  {
   "cell_type": "code",
   "execution_count": 13,
   "metadata": {},
   "outputs": [],
   "source": [
    "burn_type_module.eos_to_burn(eos_state, burn_state_out)"
   ]
  },
  {
   "cell_type": "code",
   "execution_count": 14,
   "metadata": {},
   "outputs": [],
   "source": [
    "dt = 1.0e-3"
   ]
  },
  {
   "cell_type": "code",
   "execution_count": 15,
   "metadata": {},
   "outputs": [],
   "source": [
    "time = 0.0"
   ]
  },
  {
   "cell_type": "code",
   "execution_count": 16,
   "metadata": {},
   "outputs": [],
   "source": [
    "burner_module = StarKillerMicrophysics.Actual_Burner_Module()"
   ]
  },
  {
   "cell_type": "code",
   "execution_count": 17,
   "metadata": {},
   "outputs": [],
   "source": [
    "burner_module.actual_burner(burn_state_in, burn_state_out, dt, time)"
   ]
  },
  {
   "cell_type": "code",
   "execution_count": 18,
   "metadata": {},
   "outputs": [
    {
     "name": "stdout",
     "output_type": "stream",
     "text": [
      "<burn_t>{\n",
      "    rho : 1000000000.0,\n",
      "    t : 1001418947.6439819,\n",
      "    e : 21506381590110.0,\n",
      "    xn : array([4.99961602e-01, 5.00000000e-01, 3.83975194e-05]),\n",
      "    cv : 9093942.971606664,\n",
      "    cp : 15156571.619344441,\n",
      "    y_e : 0.4999972334220669,\n",
      "    eta : 0.0,\n",
      "    cs : 100520550.53352505,\n",
      "    dx : 0.0,\n",
      "    abar : 13.714665316602005,\n",
      "    zbar : 6.857294715610578,\n",
      "    t_old : 1000000000.0,\n",
      "    dcvdt : 7.7656606e-317,\n",
      "    dcpdt : 6.91431778189167e-310,\n",
      "    ydot : array([0., 0., 0.]),\n",
      "    jac : array([[0.000e+000, 0.000e+000, 0.000e+000],\n",
      "       [0.000e+000, 0.000e+000, 0.000e+000],\n",
      "       [0.000e+000, 4.002e-322, 1.186e-321]]),\n",
      "    self_heat : 1,\n",
      "    i : 0,\n",
      "    j : 0,\n",
      "    k : 0,\n",
      "    n_rhs : 30,\n",
      "    n_jac : 1,\n",
      "    time : 0.0,\n",
      "    success : 0}\n"
     ]
    }
   ],
   "source": [
    "print(burn_state_out)"
   ]
  },
  {
   "cell_type": "code",
   "execution_count": null,
   "metadata": {},
   "outputs": [],
   "source": []
  }
 ],
 "metadata": {
  "kernelspec": {
   "display_name": "Python 3",
   "language": "python",
   "name": "python3"
  },
  "language_info": {
   "codemirror_mode": {
    "name": "ipython",
    "version": 3
   },
   "file_extension": ".py",
   "mimetype": "text/x-python",
   "name": "python",
   "nbconvert_exporter": "python",
   "pygments_lexer": "ipython3",
   "version": "3.5.2"
  }
 },
 "nbformat": 4,
 "nbformat_minor": 2
}
