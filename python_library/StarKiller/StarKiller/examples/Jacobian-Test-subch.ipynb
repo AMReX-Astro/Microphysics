{
 "cells": [
  {
   "cell_type": "markdown",
   "metadata": {},
   "source": [
    "## Initialize"
   ]
  },
  {
   "cell_type": "code",
   "execution_count": 1,
   "metadata": {},
   "outputs": [],
   "source": [
    "from StarKiller.initialization import starkiller_initialize\n",
    "from StarKiller.interfaces import BurnType\n",
    "from StarKiller.network import Network\n",
    "from StarKiller.integration import NumericalJacobian\n",
    "\n",
    "import numpy as np\n",
    "import matplotlib.pyplot as plt\n",
    "import matplotlib\n",
    "import seaborn as sns\n",
    "%matplotlib inline"
   ]
  },
  {
   "cell_type": "code",
   "execution_count": 2,
   "metadata": {},
   "outputs": [],
   "source": [
    "probin_file = \"probin_burn_subch\"\n",
    "starkiller_initialize(probin_file)"
   ]
  },
  {
   "cell_type": "code",
   "execution_count": 3,
   "metadata": {},
   "outputs": [],
   "source": [
    "net = Network()\n",
    "numerical_jac = NumericalJacobian()"
   ]
  },
  {
   "cell_type": "markdown",
   "metadata": {},
   "source": [
    "## Set Test Inputs"
   ]
  },
  {
   "cell_type": "code",
   "execution_count": 4,
   "metadata": {},
   "outputs": [],
   "source": [
    "burn_state = BurnType()\n",
    "burn_state.state.rho = 1.0e9\n",
    "burn_state.state.t = 1.0e9\n",
    "\n",
    "massfrac = np.ones(net.nspec)/float(net.nspec)\n",
    "burn_state.state.xn = massfrac"
   ]
  },
  {
   "cell_type": "markdown",
   "metadata": {},
   "source": [
    "## Evaluate analytic jacobian"
   ]
  },
  {
   "cell_type": "code",
   "execution_count": 5,
   "metadata": {},
   "outputs": [],
   "source": [
    "net.jacobian(burn_state)\n",
    "\n",
    "# convert from Y to X\n",
    "for n in range(net.nspec_evolve):\n",
    "    burn_state.state.jac[n,:] = burn_state.state.jac[n,:] * net.aion[n]\n",
    "    burn_state.state.jac[:,n] = burn_state.state.jac[:,n] * net.aion_inv[n]"
   ]
  },
  {
   "cell_type": "markdown",
   "metadata": {},
   "source": [
    "## Evaluate numerical jacobian"
   ]
  },
  {
   "cell_type": "code",
   "execution_count": 6,
   "metadata": {},
   "outputs": [],
   "source": [
    "burn_state_numerical = burn_state.copy()\n",
    "\n",
    "numerical_jac.jacobian(burn_state_numerical)"
   ]
  },
  {
   "cell_type": "markdown",
   "metadata": {},
   "source": [
    "## Jacobian plotting function"
   ]
  },
  {
   "cell_type": "code",
   "execution_count": 7,
   "metadata": {},
   "outputs": [],
   "source": [
    "def plot_jacobian(Jac, vmin=-99999999, vmax=-99999999):\n",
    "    n = net.nspec_evolve + 2\n",
    "    jac_mask = np.full((n,n), True, dtype=bool)\n",
    "    jac_abs = np.absolute(Jac)\n",
    "    for i in range(n):\n",
    "        for j in range(n):\n",
    "            if jac_abs[i,j] > 0.0:\n",
    "                jac_abs[i,j] = np.log10(jac_abs[i,j])\n",
    "                jac_mask[i,j] = False\n",
    "    if vmin == -99999999:\n",
    "        vmin = np.amin(jac_abs)\n",
    "    if vmax == -99999999:\n",
    "        vmax = np.amax(jac_abs)\n",
    "    sns.heatmap(jac_abs, vmin=vmin, vmax=vmax, mask=jac_mask, cmap='viridis')\n",
    "    return vmin, vmax"
   ]
  },
  {
   "cell_type": "markdown",
   "metadata": {},
   "source": [
    "## Plot analytic Jacobian"
   ]
  },
  {
   "cell_type": "code",
   "execution_count": 8,
   "metadata": {},
   "outputs": [
    {
     "data": {
      "image/png": "[encoded data removed]",
      "text/plain": [
       "<Figure size 432x288 with 2 Axes>"
      ]
     },
     "metadata": {
      "needs_background": "light"
     },
     "output_type": "display_data"
    }
   ],
   "source": [
    "amin, amax = plot_jacobian(burn_state.state.jac)"
   ]
  },
  {
   "cell_type": "markdown",
   "metadata": {},
   "source": [
    "## Plot numerical Jacobian"
   ]
  },
  {
   "cell_type": "code",
   "execution_count": 9,
   "metadata": {},
   "outputs": [
    {
     "data": {
      "image/png": "[encoded data removed]",
      "text/plain": [
       "<Figure size 432x288 with 2 Axes>"
      ]
     },
     "metadata": {
      "needs_background": "light"
     },
     "output_type": "display_data"
    }
   ],
   "source": [
    "_ = plot_jacobian(burn_state_numerical.state.jac, vmin=amin, vmax=amax)"
   ]
  },
  {
   "cell_type": "markdown",
   "metadata": {},
   "source": [
    "## Plot Analytic - Numerical Jacobian difference"
   ]
  },
  {
   "cell_type": "code",
   "execution_count": 10,
   "metadata": {},
   "outputs": [
    {
     "name": "stderr",
     "output_type": "stream",
     "text": [
      "/usr/local/lib/python3.5/dist-packages/ipykernel_launcher.py:1: RuntimeWarning: invalid value encountered in true_divide\n",
      "  \"\"\"Entry point for launching an IPython kernel.\n",
      "/home/dewillcox/.local/lib/python3.5/site-packages/numpy/core/fromnumeric.py:83: RuntimeWarning: invalid value encountered in reduce\n",
      "  return ufunc.reduce(obj, axis, dtype, out, **passkwargs)\n"
     ]
    },
    {
     "data": {
      "image/png": "[encoded data removed]",
      "text/plain": [
       "<Figure size 432x288 with 2 Axes>"
      ]
     },
     "metadata": {
      "needs_background": "light"
     },
     "output_type": "display_data"
    }
   ],
   "source": [
    "J_diff = (burn_state.state.jac - burn_state_numerical.state.jac)/burn_state_numerical.state.jac\n",
    "_ = plot_jacobian(J_diff)"
   ]
  },
  {
   "cell_type": "code",
   "execution_count": null,
   "metadata": {},
   "outputs": [],
   "source": []
  }
 ],
 "metadata": {
  "kernelspec": {
   "display_name": "Python 3",
   "language": "python",
   "name": "python3"
  },
  "language_info": {
   "codemirror_mode": {
    "name": "ipython",
    "version": 3
   },
   "file_extension": ".py",
   "mimetype": "text/x-python",
   "name": "python",
   "nbconvert_exporter": "python",
   "pygments_lexer": "ipython3",
   "version": "3.5.2"
  }
 },
 "nbformat": 4,
 "nbformat_minor": 2
}
