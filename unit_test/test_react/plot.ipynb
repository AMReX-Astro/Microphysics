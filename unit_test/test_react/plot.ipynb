{
 "cells": [
  {
   "cell_type": "code",
   "execution_count": 2,
   "id": "c289d330",
   "metadata": {},
   "outputs": [],
   "source": [
    "import yt\n",
    "import matplotlib.pyplot as plt\n",
    "import numpy as np"
   ]
  },
  {
   "cell_type": "code",
   "execution_count": 3,
   "id": "7ce2b5c1",
   "metadata": {},
   "outputs": [
    {
     "name": "stderr",
     "output_type": "stream",
     "text": [
      "yt : [INFO     ] 2025-06-12 15:17:22,867 Parameters: current_time              = 0.0\n",
      "yt : [INFO     ] 2025-06-12 15:17:22,868 Parameters: domain_dimensions         = [16 16 16]\n",
      "yt : [INFO     ] 2025-06-12 15:17:22,869 Parameters: domain_left_edge          = [0. 0. 0.]\n",
      "yt : [INFO     ] 2025-06-12 15:17:22,870 Parameters: domain_right_edge         = [1. 1. 1.]\n"
     ]
    },
    {
     "name": "stdout",
     "output_type": "stream",
     "text": [
      "[('boxlib', 'Xnew_beryllium-7'), ('boxlib', 'Xnew_boron-8'), ('boxlib', 'Xnew_carbon-12'), ('boxlib', 'Xnew_carbon-13'), ('boxlib', 'Xnew_fluorine-17'), ('boxlib', 'Xnew_fluorine-18'), ('boxlib', 'Xnew_helium-3'), ('boxlib', 'Xnew_helium-4'), ('boxlib', 'Xnew_hydrogen-1'), ('boxlib', 'Xnew_hydrogen-2'), ('boxlib', 'Xnew_nitrogen-13'), ('boxlib', 'Xnew_nitrogen-14'), ('boxlib', 'Xnew_nitrogen-15'), ('boxlib', 'Xnew_oxygen-14'), ('boxlib', 'Xnew_oxygen-15'), ('boxlib', 'Xnew_oxygen-16'), ('boxlib', 'Xnew_oxygen-17'), ('boxlib', 'Xold_beryllium-7'), ('boxlib', 'Xold_boron-8'), ('boxlib', 'Xold_carbon-12'), ('boxlib', 'Xold_carbon-13'), ('boxlib', 'Xold_fluorine-17'), ('boxlib', 'Xold_fluorine-18'), ('boxlib', 'Xold_helium-3'), ('boxlib', 'Xold_helium-4'), ('boxlib', 'Xold_hydrogen-1'), ('boxlib', 'Xold_hydrogen-2'), ('boxlib', 'Xold_nitrogen-13'), ('boxlib', 'Xold_nitrogen-14'), ('boxlib', 'Xold_nitrogen-15'), ('boxlib', 'Xold_oxygen-14'), ('boxlib', 'Xold_oxygen-15'), ('boxlib', 'Xold_oxygen-16'), ('boxlib', 'Xold_oxygen-17'), ('boxlib', 'density'), ('boxlib', 'rho_Hnuc'), ('boxlib', 'temperature'), ('boxlib', 'wdot_beryllium-7'), ('boxlib', 'wdot_boron-8'), ('boxlib', 'wdot_carbon-12'), ('boxlib', 'wdot_carbon-13'), ('boxlib', 'wdot_fluorine-17'), ('boxlib', 'wdot_fluorine-18'), ('boxlib', 'wdot_helium-3'), ('boxlib', 'wdot_helium-4'), ('boxlib', 'wdot_hydrogen-1'), ('boxlib', 'wdot_hydrogen-2'), ('boxlib', 'wdot_nitrogen-13'), ('boxlib', 'wdot_nitrogen-14'), ('boxlib', 'wdot_nitrogen-15'), ('boxlib', 'wdot_oxygen-14'), ('boxlib', 'wdot_oxygen-15'), ('boxlib', 'wdot_oxygen-16'), ('boxlib', 'wdot_oxygen-17')]\n"
     ]
    }
   ],
   "source": [
    "ds = yt.load(\"nova_with.VODE\")\n",
    "\n",
    "print(ds.field_list)"
   ]
  },
  {
   "cell_type": "code",
   "execution_count": null,
   "id": "19c40a40",
   "metadata": {},
   "outputs": [],
   "source": []
  }
 ],
 "metadata": {
  "kernelspec": {
   "display_name": "Python 3",
   "language": "python",
   "name": "python3"
  },
  "language_info": {
   "codemirror_mode": {
    "name": "ipython",
    "version": 3
   },
   "file_extension": ".py",
   "mimetype": "text/x-python",
   "name": "python",
   "nbconvert_exporter": "python",
   "pygments_lexer": "ipython3",
   "version": "3.13.3"
  }
 },
 "nbformat": 4,
 "nbformat_minor": 5
}
