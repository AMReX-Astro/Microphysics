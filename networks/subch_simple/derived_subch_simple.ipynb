{
 "cells": [
  {
   "cell_type": "code",
   "execution_count": 6,
   "id": "f8290750-7ee8-4b19-a5b5-b6a35d553fa3",
   "metadata": {},
   "outputs": [],
   "source": [
    "import pynucastro as pyna\n",
    "from pynucastro.networks import AmrexAstroCxxNetwork\n",
    "import subch_simple as ss"
   ]
  },
  {
   "cell_type": "code",
   "execution_count": 7,
   "id": "52c38023-08a3-4605-8299-2c79d733b2b2",
   "metadata": {},
   "outputs": [
    {
     "name": "stdout",
     "output_type": "stream",
     "text": [
      "removing:  p31(p,c12)ne20\n",
      "removing:  si28(a,c12)ne20\n",
      "removing:  ne20(c12,p)p31\n",
      "removing:  ne20(c12,a)si28\n",
      "removing:  na23(a,g)al27\n",
      "removing:  al27(g,a)na23\n",
      "removing:  al27(a,g)p31\n",
      "removing:  p31(g,a)al27\n"
     ]
    }
   ],
   "source": [
    "subch = ss.get_library()"
   ]
  },
  {
   "cell_type": "code",
   "execution_count": 9,
   "id": "71519737-6d5d-4216-a980-87459fba615d",
   "metadata": {},
   "outputs": [],
   "source": [
    "net = AmrexAstroCxxNetwork(libraries=[subch])"
   ]
  },
  {
   "cell_type": "code",
   "execution_count": 11,
   "id": "97781a52-82fc-4713-971d-a17a39cd38e3",
   "metadata": {},
   "outputs": [
    {
     "data": {
      "text/plain": [
       "[forward: C12 + p ⟶ N13 + 𝛾 ; reverse: N13 ⟶ p + C12,\n",
       " forward: C12 + He4 ⟶ O16 + 𝛾 ; reverse: O16 ⟶ He4 + C12,\n",
       " forward: N14 + He4 ⟶ F18 + 𝛾 ; reverse: F18 ⟶ He4 + N14,\n",
       " forward: O16 + He4 ⟶ Ne20 + 𝛾 ; reverse: Ne20 ⟶ He4 + O16,\n",
       " forward: F18 + He4 ⟶ Na22 + 𝛾 ; reverse: Na22 ⟶ He4 + F18,\n",
       " forward: Ne20 + He4 ⟶ Mg24 + 𝛾 ; reverse: Mg24 ⟶ He4 + Ne20,\n",
       " forward: Ne21 + p ⟶ Na22 + 𝛾 ; reverse: Na22 ⟶ p + Ne21,\n",
       " forward: Na23 + p ⟶ Mg24 + 𝛾 ; reverse: Mg24 ⟶ p + Na23,\n",
       " forward: Mg24 + He4 ⟶ Si28 + 𝛾 ; reverse: Si28 ⟶ He4 + Mg24,\n",
       " forward: Al27 + p ⟶ Si28 + 𝛾 ; reverse: Si28 ⟶ p + Al27,\n",
       " forward: Si28 + He4 ⟶ S32 + 𝛾 ; reverse: S32 ⟶ He4 + Si28,\n",
       " forward: P31 + p ⟶ S32 + 𝛾 ; reverse: S32 ⟶ p + P31,\n",
       " forward: P31 + He4 ⟶ Cl35 + 𝛾 ; reverse: Cl35 ⟶ He4 + P31,\n",
       " forward: S32 + He4 ⟶ Ar36 + 𝛾 ; reverse: Ar36 ⟶ He4 + S32,\n",
       " forward: Cl35 + p ⟶ Ar36 + 𝛾 ; reverse: Ar36 ⟶ p + Cl35,\n",
       " forward: Cl35 + He4 ⟶ K39 + 𝛾 ; reverse: K39 ⟶ He4 + Cl35,\n",
       " forward: Ar36 + He4 ⟶ Ca40 + 𝛾 ; reverse: Ca40 ⟶ He4 + Ar36,\n",
       " forward: K39 + p ⟶ Ca40 + 𝛾 ; reverse: Ca40 ⟶ p + K39,\n",
       " forward: K39 + He4 ⟶ Sc43 + 𝛾 ; reverse: Sc43 ⟶ He4 + K39,\n",
       " forward: Ca40 + He4 ⟶ Ti44 + 𝛾 ; reverse: Ti44 ⟶ He4 + Ca40,\n",
       " forward: Sc43 + p ⟶ Ti44 + 𝛾 ; reverse: Ti44 ⟶ p + Sc43,\n",
       " forward: Sc43 + He4 ⟶ V47 + 𝛾 ; reverse: V47 ⟶ He4 + Sc43,\n",
       " forward: Ti44 + He4 ⟶ Cr48 + 𝛾 ; reverse: Cr48 ⟶ He4 + Ti44,\n",
       " forward: V47 + p ⟶ Cr48 + 𝛾 ; reverse: Cr48 ⟶ p + V47,\n",
       " forward: V47 + He4 ⟶ Mn51 + 𝛾 ; reverse: Mn51 ⟶ He4 + V47,\n",
       " forward: Cr48 + He4 ⟶ Fe52 + 𝛾 ; reverse: Fe52 ⟶ He4 + Cr48,\n",
       " forward: Mn51 + p ⟶ Fe52 + 𝛾 ; reverse: Fe52 ⟶ p + Mn51,\n",
       " forward: Mn51 + He4 ⟶ Co55 + 𝛾 ; reverse: Co55 ⟶ He4 + Mn51,\n",
       " forward: Fe52 + He4 ⟶ Ni56 + 𝛾 ; reverse: Ni56 ⟶ He4 + Fe52,\n",
       " forward: Co55 + p ⟶ Ni56 + 𝛾 ; reverse: Ni56 ⟶ p + Co55,\n",
       " forward: C12 + C12 ⟶ p + Na23 ; reverse: None,\n",
       " forward: C12 + C12 ⟶ He4 + Ne20 ; reverse: None,\n",
       " forward: N13 + He4 ⟶ p + O16 ; reverse: O16 + p ⟶ He4 + N13,\n",
       " forward: O16 + C12 ⟶ p + Al27 ; reverse: None,\n",
       " forward: O16 + C12 ⟶ He4 + Mg24 ; reverse: None,\n",
       " forward: O16 + O16 ⟶ p + P31 ; reverse: None,\n",
       " forward: O16 + O16 ⟶ He4 + Si28 ; reverse: None,\n",
       " forward: F18 + He4 ⟶ p + Ne21 ; reverse: Ne21 + p ⟶ He4 + F18,\n",
       " forward: Na23 + p ⟶ He4 + Ne20 ; reverse: Ne20 + He4 ⟶ p + Na23,\n",
       " forward: Al27 + p ⟶ He4 + Mg24 ; reverse: Mg24 + He4 ⟶ p + Al27,\n",
       " forward: P31 + p ⟶ He4 + Si28 ; reverse: Si28 + He4 ⟶ p + P31,\n",
       " forward: Cl35 + p ⟶ He4 + S32 ; reverse: S32 + He4 ⟶ p + Cl35,\n",
       " forward: K39 + p ⟶ He4 + Ar36 ; reverse: Ar36 + He4 ⟶ p + K39,\n",
       " forward: Sc43 + p ⟶ He4 + Ca40 ; reverse: Ca40 + He4 ⟶ p + Sc43,\n",
       " forward: V47 + p ⟶ He4 + Ti44 ; reverse: Ti44 + He4 ⟶ p + V47,\n",
       " forward: Cr48 + He4 ⟶ p + Mn51 ; reverse: Mn51 + p ⟶ He4 + Cr48,\n",
       " forward: Fe52 + He4 ⟶ p + Co55 ; reverse: Co55 + p ⟶ He4 + Fe52,\n",
       " forward: He4 + He4 + He4 ⟶ C12 + 𝛾 ; reverse: C12 ⟶ He4 + He4 + He4,\n",
       " forward: C12 + C12 ⟶ Mg24 + 𝛾 ; reverse: None,\n",
       " forward: O16 + O16 ⟶ S32 + 𝛾 ; reverse: None,\n",
       " forward: O16 + C12 ⟶ Si28 + 𝛾 ; reverse: None]"
      ]
     },
     "execution_count": 11,
     "metadata": {},
     "output_type": "execute_result"
    }
   ],
   "source": [
    "rate_pairs = net.get_rate_pairs()\n",
    "rate_pairs"
   ]
  },
  {
   "cell_type": "code",
   "execution_count": 12,
   "id": "21a07451-0509-410b-a211-64f4998490d7",
   "metadata": {},
   "outputs": [],
   "source": [
    "rate_pairs_to_derive = []\n",
    "for rp in rate_pairs:\n",
    "    if rp.reverse is not None:\n",
    "        rate_pairs_to_derive.append(rp)"
   ]
  },
  {
   "cell_type": "code",
   "execution_count": 13,
   "id": "d0f7ec8b-b5e8-4027-8922-257fb23e34ba",
   "metadata": {},
   "outputs": [
    {
     "name": "stdout",
     "output_type": "stream",
     "text": [
      "trying to remove N13 ⟶ p + C12\n",
      "computing reverse of C12 + p ⟶ N13 + 𝛾 1.943\n",
      "trying to remove O16 ⟶ He4 + C12\n",
      "computing reverse of C12 + He4 ⟶ O16 + 𝛾 7.16192\n",
      "trying to remove F18 ⟶ He4 + N14\n",
      "computing reverse of N14 + He4 ⟶ F18 + 𝛾 4.4146\n",
      "trying to remove Ne20 ⟶ He4 + O16\n",
      "computing reverse of O16 + He4 ⟶ Ne20 + 𝛾 4.72985\n",
      "trying to remove Na22 ⟶ He4 + F18\n",
      "computing reverse of F18 + He4 ⟶ Na22 + 𝛾 8.48\n",
      "trying to remove Mg24 ⟶ He4 + Ne20\n",
      "computing reverse of Ne20 + He4 ⟶ Mg24 + 𝛾 9.31655\n",
      "trying to remove Na22 ⟶ p + Ne21\n",
      "computing reverse of Ne21 + p ⟶ Na22 + 𝛾 6.7396\n",
      "trying to remove Mg24 ⟶ p + Na23\n",
      "computing reverse of Na23 + p ⟶ Mg24 + 𝛾 11.6927\n",
      "trying to remove Si28 ⟶ He4 + Mg24\n",
      "computing reverse of Mg24 + He4 ⟶ Si28 + 𝛾 9.984\n",
      "trying to remove Si28 ⟶ p + Al27\n",
      "computing reverse of Al27 + p ⟶ Si28 + 𝛾 11.5851\n",
      "trying to remove S32 ⟶ He4 + Si28\n",
      "computing reverse of Si28 + He4 ⟶ S32 + 𝛾 6.94782\n",
      "trying to remove S32 ⟶ p + P31\n",
      "computing reverse of P31 + p ⟶ S32 + 𝛾 8.86378\n",
      "trying to remove Cl35 ⟶ He4 + P31\n",
      "computing reverse of P31 + He4 ⟶ Cl35 + 𝛾 6.99757\n",
      "trying to remove Ar36 ⟶ He4 + S32\n",
      "computing reverse of S32 + He4 ⟶ Ar36 + 𝛾 6.64076\n",
      "trying to remove Ar36 ⟶ p + Cl35\n",
      "computing reverse of Cl35 + p ⟶ Ar36 + 𝛾 8.50697\n",
      "trying to remove K39 ⟶ He4 + Cl35\n",
      "computing reverse of Cl35 + He4 ⟶ K39 + 𝛾 7.21839\n",
      "trying to remove Ca40 ⟶ He4 + Ar36\n",
      "computing reverse of Ar36 + He4 ⟶ Ca40 + 𝛾 7.03965\n",
      "trying to remove Ca40 ⟶ p + K39\n",
      "computing reverse of K39 + p ⟶ Ca40 + 𝛾 8.32816\n",
      "trying to remove Sc43 ⟶ He4 + K39\n",
      "computing reverse of K39 + He4 ⟶ Sc43 + 𝛾 4.80583\n",
      "trying to remove Ti44 ⟶ He4 + Ca40\n",
      "computing reverse of Ca40 + He4 ⟶ Ti44 + 𝛾 5.1271\n",
      "trying to remove Ti44 ⟶ p + Sc43\n",
      "computing reverse of Sc43 + p ⟶ Ti44 + 𝛾 8.6495\n",
      "trying to remove V47 ⟶ He4 + Sc43\n",
      "computing reverse of Sc43 + He4 ⟶ V47 + 𝛾 8.23904\n",
      "trying to remove Cr48 ⟶ He4 + Ti44\n",
      "computing reverse of Ti44 + He4 ⟶ Cr48 + 𝛾 7.69564\n",
      "trying to remove Cr48 ⟶ p + V47\n",
      "computing reverse of V47 + p ⟶ Cr48 + 𝛾 8.10607\n",
      "trying to remove Mn51 ⟶ He4 + V47\n",
      "computing reverse of V47 + He4 ⟶ Mn51 + 𝛾 8.66421\n",
      "trying to remove Fe52 ⟶ He4 + Cr48\n",
      "computing reverse of Cr48 + He4 ⟶ Fe52 + 𝛾 7.93735\n",
      "trying to remove Fe52 ⟶ p + Mn51\n",
      "computing reverse of Mn51 + p ⟶ Fe52 + 𝛾 7.37925\n",
      "trying to remove Co55 ⟶ He4 + Mn51\n",
      "computing reverse of Mn51 + He4 ⟶ Co55 + 𝛾 8.21113\n",
      "trying to remove Ni56 ⟶ He4 + Fe52\n",
      "computing reverse of Fe52 + He4 ⟶ Ni56 + 𝛾 7.99698\n",
      "trying to remove Ni56 ⟶ p + Co55\n",
      "computing reverse of Co55 + p ⟶ Ni56 + 𝛾 7.16509\n",
      "trying to remove O16 + p ⟶ He4 + N13\n",
      "computing reverse of N13 + He4 ⟶ p + O16 5.218\n",
      "trying to remove Ne21 + p ⟶ He4 + F18\n",
      "computing reverse of F18 + He4 ⟶ p + Ne21 1.741\n",
      "trying to remove Ne20 + He4 ⟶ p + Na23\n",
      "computing reverse of Na23 + p ⟶ He4 + Ne20 2.37613\n",
      "trying to remove Mg24 + He4 ⟶ p + Al27\n",
      "computing reverse of Al27 + p ⟶ He4 + Mg24 1.60096\n",
      "trying to remove Si28 + He4 ⟶ p + P31\n",
      "computing reverse of P31 + p ⟶ He4 + Si28 1.91597\n",
      "trying to remove S32 + He4 ⟶ p + Cl35\n",
      "computing reverse of Cl35 + p ⟶ He4 + S32 1.86621\n",
      "trying to remove Ar36 + He4 ⟶ p + K39\n",
      "computing reverse of K39 + p ⟶ He4 + Ar36 1.28858\n",
      "trying to remove Ca40 + He4 ⟶ p + Sc43\n",
      "computing reverse of Sc43 + p ⟶ He4 + Ca40 3.5224\n",
      "trying to remove Ti44 + He4 ⟶ p + V47\n",
      "computing reverse of V47 + p ⟶ He4 + Ti44 0.4105\n"
     ]
    },
    {
     "ename": "ValueError",
     "evalue": "The rate is reverse or weak or tabular",
     "output_type": "error",
     "traceback": [
      "\u001b[0;31m---------------------------------------------------------------------------\u001b[0m",
      "\u001b[0;31mValueError\u001b[0m                                Traceback (most recent call last)",
      "Input \u001b[0;32mIn [13]\u001b[0m, in \u001b[0;36m<cell line: 1>\u001b[0;34m()\u001b[0m\n\u001b[1;32m      6\u001b[0m \u001b[38;5;66;03m# compute a new derived reverse rate with partition function\u001b[39;00m\n\u001b[1;32m      7\u001b[0m \u001b[38;5;28mprint\u001b[39m(\u001b[38;5;124mf\u001b[39m\u001b[38;5;124m\"\u001b[39m\u001b[38;5;124mcomputing reverse of \u001b[39m\u001b[38;5;132;01m{\u001b[39;00mrp\u001b[38;5;241m.\u001b[39mforward\u001b[38;5;132;01m}\u001b[39;00m\u001b[38;5;124m \u001b[39m\u001b[38;5;132;01m{\u001b[39;00mrp\u001b[38;5;241m.\u001b[39mforward\u001b[38;5;241m.\u001b[39mQ\u001b[38;5;132;01m}\u001b[39;00m\u001b[38;5;124m\"\u001b[39m)\n\u001b[0;32m----> 8\u001b[0m d \u001b[38;5;241m=\u001b[39m pyna\u001b[38;5;241m.\u001b[39mDerivedRate(rate\u001b[38;5;241m=\u001b[39mrp\u001b[38;5;241m.\u001b[39mforward, compute_Q\u001b[38;5;241m=\u001b[39m\u001b[38;5;28;01mFalse\u001b[39;00m, use_pf\u001b[38;5;241m=\u001b[39m\u001b[38;5;28;01mTrue\u001b[39;00m)\n\u001b[1;32m     10\u001b[0m \u001b[38;5;66;03m# add the reverse rate back into the network\u001b[39;00m\n\u001b[1;32m     11\u001b[0m net\u001b[38;5;241m.\u001b[39madd_rates(d)\n",
      "File \u001b[0;32m~/development/pynucastro/pynucastro/rates/rate.py:1495\u001b[0m, in \u001b[0;36mDerivedRate.__init__\u001b[0;34m(self, rate, compute_Q, use_pf)\u001b[0m\n\u001b[1;32m   1491\u001b[0m \u001b[38;5;28;01massert\u001b[39;00m \u001b[38;5;28misinstance\u001b[39m(rate, Rate)\n\u001b[1;32m   1493\u001b[0m \u001b[38;5;28;01mif\u001b[39;00m (\u001b[38;5;28misinstance\u001b[39m(rate, TabularRate) \u001b[38;5;129;01mor\u001b[39;00m \u001b[38;5;28mself\u001b[39m\u001b[38;5;241m.\u001b[39mrate\u001b[38;5;241m.\u001b[39mweak \u001b[38;5;129;01mor\u001b[39;00m\n\u001b[1;32m   1494\u001b[0m     \u001b[38;5;28mself\u001b[39m\u001b[38;5;241m.\u001b[39mrate\u001b[38;5;241m.\u001b[39mreverse):\n\u001b[0;32m-> 1495\u001b[0m     \u001b[38;5;28;01mraise\u001b[39;00m \u001b[38;5;167;01mValueError\u001b[39;00m(\u001b[38;5;124m'\u001b[39m\u001b[38;5;124mThe rate is reverse or weak or tabular\u001b[39m\u001b[38;5;124m'\u001b[39m)\n\u001b[1;32m   1497\u001b[0m \u001b[38;5;28;01mfor\u001b[39;00m nuc \u001b[38;5;129;01min\u001b[39;00m \u001b[38;5;28mself\u001b[39m\u001b[38;5;241m.\u001b[39mrate\u001b[38;5;241m.\u001b[39mreactants:\n\u001b[1;32m   1499\u001b[0m     \u001b[38;5;28;01mif\u001b[39;00m \u001b[38;5;129;01mnot\u001b[39;00m nuc\u001b[38;5;241m.\u001b[39mspin_states:\n",
      "\u001b[0;31mValueError\u001b[0m: The rate is reverse or weak or tabular"
     ]
    }
   ],
   "source": [
    "for rp in rate_pairs_to_derive:\n",
    "    # remove the reverse rate from the net\n",
    "    print(f\"trying to remove {rp.reverse}\")\n",
    "    net.remove_rates(rp.reverse)\n",
    "    \n",
    "    # compute a new derived reverse rate with partition function\n",
    "    print(f\"computing reverse of {rp.forward} {rp.forward.Q}\")\n",
    "    d = pyna.DerivedRate(rate=rp.forward, compute_Q=False, use_pf=True)\n",
    "\n",
    "    # add the reverse rate back into the network\n",
    "    net.add_rates(d)"
   ]
  },
  {
   "cell_type": "code",
   "execution_count": 20,
   "id": "44808a64-3383-4fe1-9c48-37ba1e527b12",
   "metadata": {},
   "outputs": [],
   "source": [
    "rr = net.get_rate_by_name(\"v47(p,a)ti44\")[0]"
   ]
  },
  {
   "cell_type": "code",
   "execution_count": 21,
   "id": "a3603c66-6d04-47ea-8c91-37d857bb1abc",
   "metadata": {},
   "outputs": [
    {
     "data": {
      "text/plain": [
       "True"
      ]
     },
     "execution_count": 21,
     "metadata": {},
     "output_type": "execute_result"
    }
   ],
   "source": [
    "rr.reverse"
   ]
  },
  {
   "cell_type": "code",
   "execution_count": 14,
   "id": "67b38be7-de2c-476f-a247-4202d110b67a",
   "metadata": {},
   "outputs": [
    {
     "data": {
      "text/plain": [
       "[forward: C12 + p ⟶ N13 + 𝛾 ; reverse: N13 ⟶ p + C12,\n",
       " forward: C12 + He4 ⟶ O16 + 𝛾 ; reverse: O16 ⟶ He4 + C12,\n",
       " forward: N14 + He4 ⟶ F18 + 𝛾 ; reverse: F18 ⟶ He4 + N14,\n",
       " forward: O16 + He4 ⟶ Ne20 + 𝛾 ; reverse: Ne20 ⟶ He4 + O16,\n",
       " forward: F18 + He4 ⟶ Na22 + 𝛾 ; reverse: Na22 ⟶ He4 + F18,\n",
       " forward: Ne20 + He4 ⟶ Mg24 + 𝛾 ; reverse: Mg24 ⟶ He4 + Ne20,\n",
       " forward: Ne21 + p ⟶ Na22 + 𝛾 ; reverse: Na22 ⟶ p + Ne21,\n",
       " forward: Na23 + p ⟶ Mg24 + 𝛾 ; reverse: Mg24 ⟶ p + Na23,\n",
       " forward: Mg24 + He4 ⟶ Si28 + 𝛾 ; reverse: Si28 ⟶ He4 + Mg24,\n",
       " forward: Al27 + p ⟶ Si28 + 𝛾 ; reverse: Si28 ⟶ p + Al27,\n",
       " forward: Si28 + He4 ⟶ S32 + 𝛾 ; reverse: S32 ⟶ He4 + Si28,\n",
       " forward: P31 + p ⟶ S32 + 𝛾 ; reverse: S32 ⟶ p + P31,\n",
       " forward: P31 + He4 ⟶ Cl35 + 𝛾 ; reverse: Cl35 ⟶ He4 + P31,\n",
       " forward: S32 + He4 ⟶ Ar36 + 𝛾 ; reverse: Ar36 ⟶ He4 + S32,\n",
       " forward: Cl35 + p ⟶ Ar36 + 𝛾 ; reverse: Ar36 ⟶ p + Cl35,\n",
       " forward: Cl35 + He4 ⟶ K39 + 𝛾 ; reverse: K39 ⟶ He4 + Cl35,\n",
       " forward: Ar36 + He4 ⟶ Ca40 + 𝛾 ; reverse: Ca40 ⟶ He4 + Ar36,\n",
       " forward: K39 + p ⟶ Ca40 + 𝛾 ; reverse: Ca40 ⟶ p + K39,\n",
       " forward: K39 + He4 ⟶ Sc43 + 𝛾 ; reverse: Sc43 ⟶ He4 + K39,\n",
       " forward: Ca40 + He4 ⟶ Ti44 + 𝛾 ; reverse: Ti44 ⟶ He4 + Ca40,\n",
       " forward: Sc43 + p ⟶ Ti44 + 𝛾 ; reverse: Ti44 ⟶ p + Sc43,\n",
       " forward: Sc43 + He4 ⟶ V47 + 𝛾 ; reverse: V47 ⟶ He4 + Sc43,\n",
       " forward: Ti44 + He4 ⟶ Cr48 + 𝛾 ; reverse: Cr48 ⟶ He4 + Ti44,\n",
       " forward: V47 + p ⟶ Cr48 + 𝛾 ; reverse: Cr48 ⟶ p + V47,\n",
       " forward: V47 + He4 ⟶ Mn51 + 𝛾 ; reverse: Mn51 ⟶ He4 + V47,\n",
       " forward: Cr48 + He4 ⟶ Fe52 + 𝛾 ; reverse: Fe52 ⟶ He4 + Cr48,\n",
       " forward: Mn51 + p ⟶ Fe52 + 𝛾 ; reverse: Fe52 ⟶ p + Mn51,\n",
       " forward: Mn51 + He4 ⟶ Co55 + 𝛾 ; reverse: Co55 ⟶ He4 + Mn51,\n",
       " forward: Fe52 + He4 ⟶ Ni56 + 𝛾 ; reverse: Ni56 ⟶ He4 + Fe52,\n",
       " forward: Co55 + p ⟶ Ni56 + 𝛾 ; reverse: Ni56 ⟶ p + Co55,\n",
       " forward: N13 + He4 ⟶ p + O16 ; reverse: O16 + p ⟶ He4 + N13,\n",
       " forward: F18 + He4 ⟶ p + Ne21 ; reverse: Ne21 + p ⟶ He4 + F18,\n",
       " forward: Na23 + p ⟶ He4 + Ne20 ; reverse: Ne20 + He4 ⟶ p + Na23,\n",
       " forward: Al27 + p ⟶ He4 + Mg24 ; reverse: Mg24 + He4 ⟶ p + Al27,\n",
       " forward: P31 + p ⟶ He4 + Si28 ; reverse: Si28 + He4 ⟶ p + P31,\n",
       " forward: Cl35 + p ⟶ He4 + S32 ; reverse: S32 + He4 ⟶ p + Cl35,\n",
       " forward: K39 + p ⟶ He4 + Ar36 ; reverse: Ar36 + He4 ⟶ p + K39,\n",
       " forward: Sc43 + p ⟶ He4 + Ca40 ; reverse: Ca40 + He4 ⟶ p + Sc43,\n",
       " forward: V47 + p ⟶ He4 + Ti44 ; reverse: Ti44 + He4 ⟶ p + V47,\n",
       " forward: Cr48 + He4 ⟶ p + Mn51 ; reverse: Mn51 + p ⟶ He4 + Cr48,\n",
       " forward: Fe52 + He4 ⟶ p + Co55 ; reverse: Co55 + p ⟶ He4 + Fe52,\n",
       " forward: He4 + He4 + He4 ⟶ C12 + 𝛾 ; reverse: C12 ⟶ He4 + He4 + He4]"
      ]
     },
     "execution_count": 14,
     "metadata": {},
     "output_type": "execute_result"
    }
   ],
   "source": [
    "rate_pairs_to_derive"
   ]
  },
  {
   "cell_type": "code",
   "execution_count": 8,
   "id": "ce3944cd-437f-4fa3-8aa3-18e32e4bd5f4",
   "metadata": {},
   "outputs": [],
   "source": [
    "rl = pyna.ReacLibLibrary()"
   ]
  },
  {
   "cell_type": "code",
   "execution_count": 9,
   "id": "17ed800e-99a8-4e12-9a8a-dc755b634f67",
   "metadata": {},
   "outputs": [],
   "source": [
    "r = rl.get_rate_by_name(\"S32(a,g)Ar36\")"
   ]
  },
  {
   "cell_type": "code",
   "execution_count": 12,
   "id": "9e81b9e7-b24e-4402-86cd-6c9a8f46d432",
   "metadata": {},
   "outputs": [],
   "source": [
    "d = pyna.DerivedRate(rate=r, compute_Q=False, use_pf=True)"
   ]
  },
  {
   "cell_type": "code",
   "execution_count": 13,
   "id": "c75f29d5-9f1f-473e-ba5b-31a7f44a9ec9",
   "metadata": {},
   "outputs": [
    {
     "data": {
      "text/plain": [
       "Ar36 ⟶ He4 + S32"
      ]
     },
     "execution_count": 13,
     "metadata": {},
     "output_type": "execute_result"
    }
   ],
   "source": [
    "d"
   ]
  },
  {
   "cell_type": "code",
   "execution_count": null,
   "id": "9e345d2b-796b-41e6-a994-2fb1cbb6461b",
   "metadata": {},
   "outputs": [],
   "source": []
  }
 ],
 "metadata": {
  "kernelspec": {
   "display_name": "Python 3 (ipykernel)",
   "language": "python",
   "name": "python3"
  },
  "language_info": {
   "codemirror_mode": {
    "name": "ipython",
    "version": 3
   },
   "file_extension": ".py",
   "mimetype": "text/x-python",
   "name": "python",
   "nbconvert_exporter": "python",
   "pygments_lexer": "ipython3",
   "version": "3.10.7"
  }
 },
 "nbformat": 4,
 "nbformat_minor": 5
}
