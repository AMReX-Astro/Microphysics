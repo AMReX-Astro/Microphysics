{
 "cells": [
  {
   "cell_type": "code",
   "execution_count": 1,
   "id": "f8290750-7ee8-4b19-a5b5-b6a35d553fa3",
   "metadata": {},
   "outputs": [],
   "source": [
    "import pynucastro as pyna\n",
    "from pynucastro.networks import AmrexAstroCxxNetwork\n",
    "import subch_simple as ss"
   ]
  },
  {
   "cell_type": "code",
   "execution_count": 2,
   "id": "52c38023-08a3-4605-8299-2c79d733b2b2",
   "metadata": {},
   "outputs": [
    {
     "name": "stdout",
     "output_type": "stream",
     "text": [
      "removing:  p31(p,c12)ne20\n",
      "removing:  si28(a,c12)ne20\n",
      "removing:  ne20(c12,p)p31\n",
      "removing:  ne20(c12,a)si28\n",
      "removing:  na23(a,g)al27\n",
      "removing:  al27(g,a)na23\n",
      "removing:  al27(a,g)p31\n",
      "removing:  p31(g,a)al27\n"
     ]
    }
   ],
   "source": [
    "subch = ss.get_library()"
   ]
  },
  {
   "cell_type": "code",
   "execution_count": 3,
   "id": "71519737-6d5d-4216-a980-87459fba615d",
   "metadata": {},
   "outputs": [],
   "source": [
    "net = AmrexAstroCxxNetwork(libraries=[subch])"
   ]
  },
  {
   "cell_type": "code",
   "execution_count": 4,
   "id": "21a07451-0509-410b-a211-64f4998490d7",
   "metadata": {},
   "outputs": [],
   "source": [
    "rates_to_derive = []\n",
    "for r in subch.get_rates():\n",
    "    if r.reverse:\n",
    "        # this rate was computed using detailed balance, regardless\n",
    "        # of whether Q < 0 or not.  We want to remove it and then\n",
    "        # recompute it\n",
    "        rates_to_derive.append(r)"
   ]
  },
  {
   "cell_type": "code",
   "execution_count": 5,
   "id": "e24602db-8e51-46f7-8fc7-dbb2f19963f7",
   "metadata": {},
   "outputs": [
    {
     "data": {
      "text/plain": [
       "True"
      ]
     },
     "execution_count": 5,
     "metadata": {},
     "output_type": "execute_result"
    }
   ],
   "source": [
    "rates_to_derive[0].reverse"
   ]
  },
  {
   "cell_type": "code",
   "execution_count": 6,
   "id": "0b1e8ebb-99b1-4ae3-a8a1-53e28fa3807f",
   "metadata": {},
   "outputs": [
    {
     "name": "stdout",
     "output_type": "stream",
     "text": [
      "modifying N13 ⟶ p + C12 from C12 + p ⟶ N13 + 𝛾\n",
      "modifying O16 ⟶ He4 + C12 from C12 + He4 ⟶ O16 + 𝛾\n",
      "modifying F18 ⟶ He4 + N14 from N14 + He4 ⟶ F18 + 𝛾\n",
      "modifying Ne20 ⟶ He4 + O16 from O16 + He4 ⟶ Ne20 + 𝛾\n",
      "modifying Na22 ⟶ p + Ne21 from Ne21 + p ⟶ Na22 + 𝛾\n",
      "modifying Na22 ⟶ He4 + F18 from F18 + He4 ⟶ Na22 + 𝛾\n",
      "modifying Mg24 ⟶ p + Na23 from Na23 + p ⟶ Mg24 + 𝛾\n",
      "modifying Mg24 ⟶ He4 + Ne20 from Ne20 + He4 ⟶ Mg24 + 𝛾\n",
      "modifying Si28 ⟶ p + Al27 from Al27 + p ⟶ Si28 + 𝛾\n",
      "modifying Si28 ⟶ He4 + Mg24 from Mg24 + He4 ⟶ Si28 + 𝛾\n",
      "modifying S32 ⟶ p + P31 from P31 + p ⟶ S32 + 𝛾\n",
      "modifying S32 ⟶ He4 + Si28 from Si28 + He4 ⟶ S32 + 𝛾\n",
      "modifying Cl35 ⟶ He4 + P31 from P31 + He4 ⟶ Cl35 + 𝛾\n",
      "modifying Ar36 ⟶ p + Cl35 from Cl35 + p ⟶ Ar36 + 𝛾\n",
      "modifying Ar36 ⟶ He4 + S32 from S32 + He4 ⟶ Ar36 + 𝛾\n",
      "modifying K39 ⟶ He4 + Cl35 from Cl35 + He4 ⟶ K39 + 𝛾\n",
      "modifying Ca40 ⟶ p + K39 from K39 + p ⟶ Ca40 + 𝛾\n",
      "modifying Ca40 ⟶ He4 + Ar36 from Ar36 + He4 ⟶ Ca40 + 𝛾\n",
      "modifying Sc43 ⟶ He4 + K39 from K39 + He4 ⟶ Sc43 + 𝛾\n",
      "modifying Ti44 ⟶ p + Sc43 from Sc43 + p ⟶ Ti44 + 𝛾\n",
      "modifying Ti44 ⟶ He4 + Ca40 from Ca40 + He4 ⟶ Ti44 + 𝛾\n",
      "modifying V47 ⟶ He4 + Sc43 from Sc43 + He4 ⟶ V47 + 𝛾\n",
      "modifying Cr48 ⟶ p + V47 from V47 + p ⟶ Cr48 + 𝛾\n",
      "modifying Cr48 ⟶ He4 + Ti44 from Ti44 + He4 ⟶ Cr48 + 𝛾\n",
      "modifying Mn51 ⟶ He4 + V47 from V47 + He4 ⟶ Mn51 + 𝛾\n",
      "modifying Fe52 ⟶ p + Mn51 from Mn51 + p ⟶ Fe52 + 𝛾\n",
      "modifying Fe52 ⟶ He4 + Cr48 from Cr48 + He4 ⟶ Fe52 + 𝛾\n",
      "modifying Co55 ⟶ He4 + Mn51 from Mn51 + He4 ⟶ Co55 + 𝛾\n",
      "modifying Ni56 ⟶ p + Co55 from Co55 + p ⟶ Ni56 + 𝛾\n",
      "modifying Ni56 ⟶ He4 + Fe52 from Fe52 + He4 ⟶ Ni56 + 𝛾\n",
      "modifying C12 ⟶ He4 + He4 + He4 from He4 + He4 + He4 ⟶ C12 + 𝛾\n",
      "modifying O16 + p ⟶ He4 + N13 from N13 + He4 ⟶ p + O16\n",
      "modifying Ne20 + He4 ⟶ p + Na23 from Na23 + p ⟶ He4 + Ne20\n",
      "modifying Ne21 + p ⟶ He4 + F18 from F18 + He4 ⟶ p + Ne21\n",
      "modifying Mg24 + He4 ⟶ p + Al27 from Al27 + p ⟶ He4 + Mg24\n",
      "modifying Si28 + He4 ⟶ p + P31 from P31 + p ⟶ He4 + Si28\n",
      "modifying S32 + He4 ⟶ p + Cl35 from Cl35 + p ⟶ He4 + S32\n",
      "modifying Ar36 + He4 ⟶ p + K39 from K39 + p ⟶ He4 + Ar36\n",
      "modifying Ca40 + He4 ⟶ p + Sc43 from Sc43 + p ⟶ He4 + Ca40\n",
      "modifying V47 + p ⟶ He4 + Ti44 from Ti44 + He4 ⟶ p + V47\n",
      "modifying Mn51 + p ⟶ He4 + Cr48 from Cr48 + He4 ⟶ p + Mn51\n",
      "modifying Co55 + p ⟶ He4 + Fe52 from Fe52 + He4 ⟶ p + Co55\n"
     ]
    }
   ],
   "source": [
    "# now for each of those derived rates, look to see if the pair exists\n",
    "for r in rates_to_derive:\n",
    "    fr = subch.get_rate_by_nuclei(r.products, r.reactants)\n",
    "    if fr:\n",
    "        print(f\"modifying {r} from {fr}\")\n",
    "        subch.remove_rate(r)\n",
    "        d = pyna.DerivedRate(rate=fr, compute_Q=False, use_pf=True)\n",
    "        subch.add_rate(d)"
   ]
  },
  {
   "cell_type": "code",
   "execution_count": 8,
   "id": "a3603c66-6d04-47ea-8c91-37d857bb1abc",
   "metadata": {},
   "outputs": [
    {
     "name": "stdout",
     "output_type": "stream",
     "text": [
      "C12 + p ⟶ N13 + 𝛾 <class 'pynucastro.rates.rate.ReacLibRate'>\n",
      "C12 + He4 ⟶ O16 + 𝛾 <class 'pynucastro.rates.rate.ReacLibRate'>\n",
      "N14 + He4 ⟶ F18 + 𝛾 <class 'pynucastro.rates.rate.ReacLibRate'>\n",
      "O16 + He4 ⟶ Ne20 + 𝛾 <class 'pynucastro.rates.rate.ReacLibRate'>\n",
      "F18 + He4 ⟶ Na22 + 𝛾 <class 'pynucastro.rates.rate.ReacLibRate'>\n",
      "Ne20 + He4 ⟶ Mg24 + 𝛾 <class 'pynucastro.rates.rate.ReacLibRate'>\n",
      "Ne21 + p ⟶ Na22 + 𝛾 <class 'pynucastro.rates.rate.ReacLibRate'>\n",
      "Na23 + p ⟶ Mg24 + 𝛾 <class 'pynucastro.rates.rate.ReacLibRate'>\n",
      "Mg24 + He4 ⟶ Si28 + 𝛾 <class 'pynucastro.rates.rate.ReacLibRate'>\n",
      "Al27 + p ⟶ Si28 + 𝛾 <class 'pynucastro.rates.rate.ReacLibRate'>\n",
      "Si28 + He4 ⟶ S32 + 𝛾 <class 'pynucastro.rates.rate.ReacLibRate'>\n",
      "P31 + p ⟶ S32 + 𝛾 <class 'pynucastro.rates.rate.ReacLibRate'>\n",
      "P31 + He4 ⟶ Cl35 + 𝛾 <class 'pynucastro.rates.rate.ReacLibRate'>\n",
      "S32 + He4 ⟶ Ar36 + 𝛾 <class 'pynucastro.rates.rate.ReacLibRate'>\n",
      "Cl35 + p ⟶ Ar36 + 𝛾 <class 'pynucastro.rates.rate.ReacLibRate'>\n",
      "Cl35 + He4 ⟶ K39 + 𝛾 <class 'pynucastro.rates.rate.ReacLibRate'>\n",
      "Ar36 + He4 ⟶ Ca40 + 𝛾 <class 'pynucastro.rates.rate.ReacLibRate'>\n",
      "K39 + p ⟶ Ca40 + 𝛾 <class 'pynucastro.rates.rate.ReacLibRate'>\n",
      "K39 + He4 ⟶ Sc43 + 𝛾 <class 'pynucastro.rates.rate.ReacLibRate'>\n",
      "Ca40 + He4 ⟶ Ti44 + 𝛾 <class 'pynucastro.rates.rate.ReacLibRate'>\n",
      "Sc43 + p ⟶ Ti44 + 𝛾 <class 'pynucastro.rates.rate.ReacLibRate'>\n",
      "Sc43 + He4 ⟶ V47 + 𝛾 <class 'pynucastro.rates.rate.ReacLibRate'>\n",
      "Ti44 + He4 ⟶ Cr48 + 𝛾 <class 'pynucastro.rates.rate.ReacLibRate'>\n",
      "V47 + p ⟶ Cr48 + 𝛾 <class 'pynucastro.rates.rate.ReacLibRate'>\n",
      "V47 + He4 ⟶ Mn51 + 𝛾 <class 'pynucastro.rates.rate.ReacLibRate'>\n",
      "Cr48 + He4 ⟶ Fe52 + 𝛾 <class 'pynucastro.rates.rate.ReacLibRate'>\n",
      "Mn51 + p ⟶ Fe52 + 𝛾 <class 'pynucastro.rates.rate.ReacLibRate'>\n",
      "Mn51 + He4 ⟶ Co55 + 𝛾 <class 'pynucastro.rates.rate.ReacLibRate'>\n",
      "Fe52 + He4 ⟶ Ni56 + 𝛾 <class 'pynucastro.rates.rate.ReacLibRate'>\n",
      "Co55 + p ⟶ Ni56 + 𝛾 <class 'pynucastro.rates.rate.ReacLibRate'>\n",
      "C12 + C12 ⟶ p + Na23 <class 'pynucastro.rates.rate.ReacLibRate'>\n",
      "C12 + C12 ⟶ He4 + Ne20 <class 'pynucastro.rates.rate.ReacLibRate'>\n",
      "N13 + He4 ⟶ p + O16 <class 'pynucastro.rates.rate.ReacLibRate'>\n",
      "O16 + C12 ⟶ p + Al27 <class 'pynucastro.rates.rate.ReacLibRate'>\n",
      "O16 + C12 ⟶ He4 + Mg24 <class 'pynucastro.rates.rate.ReacLibRate'>\n",
      "O16 + O16 ⟶ p + P31 <class 'pynucastro.rates.rate.ReacLibRate'>\n",
      "O16 + O16 ⟶ He4 + Si28 <class 'pynucastro.rates.rate.ReacLibRate'>\n",
      "F18 + He4 ⟶ p + Ne21 <class 'pynucastro.rates.rate.ReacLibRate'>\n",
      "Na23 + p ⟶ He4 + Ne20 <class 'pynucastro.rates.rate.ReacLibRate'>\n",
      "Al27 + p ⟶ He4 + Mg24 <class 'pynucastro.rates.rate.ReacLibRate'>\n",
      "P31 + p ⟶ He4 + Si28 <class 'pynucastro.rates.rate.ReacLibRate'>\n",
      "Cl35 + p ⟶ He4 + S32 <class 'pynucastro.rates.rate.ReacLibRate'>\n",
      "K39 + p ⟶ He4 + Ar36 <class 'pynucastro.rates.rate.ReacLibRate'>\n",
      "Sc43 + p ⟶ He4 + Ca40 <class 'pynucastro.rates.rate.ReacLibRate'>\n",
      "Ti44 + He4 ⟶ p + V47 <class 'pynucastro.rates.rate.ReacLibRate'>\n",
      "Cr48 + He4 ⟶ p + Mn51 <class 'pynucastro.rates.rate.ReacLibRate'>\n",
      "Fe52 + He4 ⟶ p + Co55 <class 'pynucastro.rates.rate.ReacLibRate'>\n",
      "He4 + He4 + He4 ⟶ C12 + 𝛾 <class 'pynucastro.rates.rate.ReacLibRate'>\n",
      "C12 + C12 ⟶ Mg24 + 𝛾 <class 'pynucastro.rates.rate.ReacLibRate'>\n",
      "O16 + O16 ⟶ S32 + 𝛾 <class 'pynucastro.rates.rate.ReacLibRate'>\n",
      "O16 + C12 ⟶ Si28 + 𝛾 <class 'pynucastro.rates.rate.ReacLibRate'>\n",
      "N13 ⟶ p + C12 <class 'pynucastro.rates.rate.DerivedRate'>\n",
      "O16 ⟶ He4 + C12 <class 'pynucastro.rates.rate.DerivedRate'>\n",
      "F18 ⟶ He4 + N14 <class 'pynucastro.rates.rate.DerivedRate'>\n",
      "Ne20 ⟶ He4 + O16 <class 'pynucastro.rates.rate.DerivedRate'>\n",
      "Na22 ⟶ p + Ne21 <class 'pynucastro.rates.rate.DerivedRate'>\n",
      "Na22 ⟶ He4 + F18 <class 'pynucastro.rates.rate.DerivedRate'>\n",
      "Mg24 ⟶ p + Na23 <class 'pynucastro.rates.rate.DerivedRate'>\n",
      "Mg24 ⟶ He4 + Ne20 <class 'pynucastro.rates.rate.DerivedRate'>\n",
      "Si28 ⟶ p + Al27 <class 'pynucastro.rates.rate.DerivedRate'>\n",
      "Si28 ⟶ He4 + Mg24 <class 'pynucastro.rates.rate.DerivedRate'>\n",
      "S32 ⟶ p + P31 <class 'pynucastro.rates.rate.DerivedRate'>\n",
      "S32 ⟶ He4 + Si28 <class 'pynucastro.rates.rate.DerivedRate'>\n",
      "Cl35 ⟶ He4 + P31 <class 'pynucastro.rates.rate.DerivedRate'>\n",
      "Ar36 ⟶ p + Cl35 <class 'pynucastro.rates.rate.DerivedRate'>\n",
      "Ar36 ⟶ He4 + S32 <class 'pynucastro.rates.rate.DerivedRate'>\n",
      "K39 ⟶ He4 + Cl35 <class 'pynucastro.rates.rate.DerivedRate'>\n",
      "Ca40 ⟶ p + K39 <class 'pynucastro.rates.rate.DerivedRate'>\n",
      "Ca40 ⟶ He4 + Ar36 <class 'pynucastro.rates.rate.DerivedRate'>\n",
      "Sc43 ⟶ He4 + K39 <class 'pynucastro.rates.rate.DerivedRate'>\n",
      "Ti44 ⟶ p + Sc43 <class 'pynucastro.rates.rate.DerivedRate'>\n",
      "Ti44 ⟶ He4 + Ca40 <class 'pynucastro.rates.rate.DerivedRate'>\n",
      "V47 ⟶ He4 + Sc43 <class 'pynucastro.rates.rate.DerivedRate'>\n",
      "Cr48 ⟶ p + V47 <class 'pynucastro.rates.rate.DerivedRate'>\n",
      "Cr48 ⟶ He4 + Ti44 <class 'pynucastro.rates.rate.DerivedRate'>\n",
      "Mn51 ⟶ He4 + V47 <class 'pynucastro.rates.rate.DerivedRate'>\n",
      "Fe52 ⟶ p + Mn51 <class 'pynucastro.rates.rate.DerivedRate'>\n",
      "Fe52 ⟶ He4 + Cr48 <class 'pynucastro.rates.rate.DerivedRate'>\n",
      "Co55 ⟶ He4 + Mn51 <class 'pynucastro.rates.rate.DerivedRate'>\n",
      "Ni56 ⟶ p + Co55 <class 'pynucastro.rates.rate.DerivedRate'>\n",
      "Ni56 ⟶ He4 + Fe52 <class 'pynucastro.rates.rate.DerivedRate'>\n",
      "C12 ⟶ He4 + He4 + He4 <class 'pynucastro.rates.rate.DerivedRate'>\n",
      "O16 + p ⟶ He4 + N13 <class 'pynucastro.rates.rate.DerivedRate'>\n",
      "Ne20 + He4 ⟶ p + Na23 <class 'pynucastro.rates.rate.DerivedRate'>\n",
      "Ne21 + p ⟶ He4 + F18 <class 'pynucastro.rates.rate.DerivedRate'>\n",
      "Mg24 + He4 ⟶ p + Al27 <class 'pynucastro.rates.rate.DerivedRate'>\n",
      "Si28 + He4 ⟶ p + P31 <class 'pynucastro.rates.rate.DerivedRate'>\n",
      "S32 + He4 ⟶ p + Cl35 <class 'pynucastro.rates.rate.DerivedRate'>\n",
      "Ar36 + He4 ⟶ p + K39 <class 'pynucastro.rates.rate.DerivedRate'>\n",
      "Ca40 + He4 ⟶ p + Sc43 <class 'pynucastro.rates.rate.DerivedRate'>\n",
      "V47 + p ⟶ He4 + Ti44 <class 'pynucastro.rates.rate.DerivedRate'>\n",
      "Mn51 + p ⟶ He4 + Cr48 <class 'pynucastro.rates.rate.DerivedRate'>\n",
      "Co55 + p ⟶ He4 + Fe52 <class 'pynucastro.rates.rate.DerivedRate'>\n"
     ]
    }
   ],
   "source": [
    "for rr in subch.get_rates():\n",
    "    print(rr, type(rr))"
   ]
  },
  {
   "cell_type": "code",
   "execution_count": null,
   "id": "9e345d2b-796b-41e6-a994-2fb1cbb6461b",
   "metadata": {},
   "outputs": [],
   "source": []
  }
 ],
 "metadata": {
  "kernelspec": {
   "display_name": "Python 3 (ipykernel)",
   "language": "python",
   "name": "python3"
  },
  "language_info": {
   "codemirror_mode": {
    "name": "ipython",
    "version": 3
   },
   "file_extension": ".py",
   "mimetype": "text/x-python",
   "name": "python",
   "nbconvert_exporter": "python",
   "pygments_lexer": "ipython3",
   "version": "3.10.7"
  }
 },
 "nbformat": 4,
 "nbformat_minor": 5
}
