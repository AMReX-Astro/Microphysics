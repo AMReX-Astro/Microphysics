{
 "cells": [
  {
   "cell_type": "markdown",
   "id": "4f94356b-d5d5-4f99-b2ea-3327157a17c1",
   "metadata": {
    "user_expressions": []
   },
   "source": [
    "# NSE Table for Massive Stars\n",
    "\n",
    "This notebook uses pynucastro to generate an NSE table for use with the Castro ``massive_star`` problem.\n",
    "Previously we were using a table from the [Ma et al. 2013](https://ui.adsabs.harvard.edu/abs/2013ApJ...771...58M/abstract)\n",
    "paper which used 125 nuclei binned down into the 19 nuclei used in ``aprox19``.\n",
    "\n",
    "This table will work similarly, with the main differences:\n",
    "\n",
    "* We are using 96 nuclei presently.  This is because (1) we don't have all the weak\n",
    "  rates for the 125 nuclei used originally and (2) some ofthe nuclei in the original\n",
    "  set don't have valid spins.\n",
    "  \n",
    "* We go only down to $Y_e = 0.43$ instead of $Y_e = 0.4$ in the original table.\n",
    "  This is because of the different set of nuclei -- it is harder to achieve such\n",
    "  a low $Y_e$ with our set of nuclei.\n",
    "\n",
    "* We are using a lower temperature bound of $T = 3\\times 10^9~\\mathrm{K}$ instead of $10^9~\\mathrm{K}$\n",
    "  in the original table.  This is mainly because we don't trust NSE below this temperature."
   ]
  },
  {
   "cell_type": "code",
   "execution_count": 1,
   "id": "48e81a74-a046-4d93-8d34-f15f6c2123f7",
   "metadata": {
    "tags": []
   },
   "outputs": [],
   "source": [
    "import pynucastro as pyna\n",
    "from pynucastro import Nucleus"
   ]
  },
  {
   "cell_type": "markdown",
   "id": "b574453b-7505-4757-8d98-2faf6a316897",
   "metadata": {
    "user_expressions": []
   },
   "source": [
    "## Start get getting the nuclei we care about"
   ]
  },
  {
   "cell_type": "code",
   "execution_count": 2,
   "id": "1fb4ecaa-b14d-4f90-81c2-42c6ec9859c7",
   "metadata": {
    "tags": []
   },
   "outputs": [],
   "source": [
    "nuc_list = [Nucleus(\"n\"), Nucleus(\"p\"), Nucleus(\"d\"),\n",
    "            Nucleus(\"he3\"), Nucleus(\"he4\"), Nucleus(\"c12\"), Nucleus(\"o16\"),\n",
    "            Nucleus(\"ne20\"), Nucleus(\"ne21\"), Nucleus(\"ne22\"), Nucleus(\"n13\"), Nucleus(\"n14\"), Nucleus(\"f18\"),\n",
    "            Nucleus(\"na23\"), Nucleus(\"mg24\"), Nucleus(\"si28\"),\n",
    "            Nucleus(\"s32\"), Nucleus(\"ar36\"), Nucleus(\"ca40\"), Nucleus(\"sc43\"),\n",
    "            Nucleus(\"al27\"), Nucleus(\"p31\"), Nucleus(\"cl35\"), Nucleus(\"k39\")]"
   ]
  },
  {
   "cell_type": "markdown",
   "id": "4739f2fb-dd1e-4589-9a86-f591fc6858d3",
   "metadata": {
    "user_expressions": []
   },
   "source": [
    "We need to be careful with which nuclei we add, since some do not have spins"
   ]
  },
  {
   "cell_type": "code",
   "execution_count": 3,
   "id": "c9d5407c-b960-4cf9-8050-dd9339dd94a3",
   "metadata": {
    "tags": []
   },
   "outputs": [],
   "source": [
    "nuc_list += pyna.get_nuclei_in_range(20, 20, 45, 48)  # Ca\n",
    "nuc_list += pyna.get_nuclei_in_range(21, 21, 45, 49)  # Sc\n",
    "nuc_list += pyna.get_nuclei_in_range(22, 22, 44, 52)  # Ti\n",
    "nuc_list += pyna.get_nuclei_in_range(23, 23, 47, 54)  # V\n",
    "nuc_list += pyna.get_nuclei_in_range(24, 24, 48, 56)  # Cr\n",
    "nuc_list += pyna.get_nuclei_in_range(25, 25, 51, 58)  # Mn\n",
    "nuc_list += pyna.get_nuclei_in_range(26, 26, 52, 60)  # Fe\n",
    "nuc_list += pyna.get_nuclei_in_range(27, 27, 54, 61)  # Co\n",
    "nuc_list += pyna.get_nuclei_in_range(28, 28, 56, 65)  # Ni\n",
    "nuc_list.append(Nucleus(\"cu59\"))\n",
    "nuc_list.append(Nucleus(\"zn60\"))"
   ]
  },
  {
   "cell_type": "code",
   "execution_count": 4,
   "id": "fd370035-587d-4191-8020-0a720b6ebac2",
   "metadata": {
    "tags": []
   },
   "outputs": [
    {
     "data": {
      "text/plain": [
       "96"
      ]
     },
     "execution_count": 4,
     "metadata": {},
     "output_type": "execute_result"
    }
   ],
   "source": [
    "len(nuc_list)"
   ]
  },
  {
   "cell_type": "markdown",
   "id": "35db9ffd-fa6a-4ce3-b1b9-226999dfd8e3",
   "metadata": {
    "user_expressions": []
   },
   "source": [
    "## Create our network"
   ]
  },
  {
   "cell_type": "markdown",
   "id": "49390b02-00b9-4061-bfbd-728c3e9ae981",
   "metadata": {
    "user_expressions": []
   },
   "source": [
    "Find all the rates that connect these nuclei in both the ReacLib library and the tabulated rates pynucastro knows about"
   ]
  },
  {
   "cell_type": "code",
   "execution_count": 5,
   "id": "9013be87-8396-426f-bcaa-957442f116f4",
   "metadata": {
    "tags": []
   },
   "outputs": [
    {
     "name": "stdout",
     "output_type": "stream",
     "text": [
      "warning: Ti44 was not able to be linked\n",
      "warning: Na23 was not able to be linked\n",
      "warning: K39 was not able to be linked\n",
      "warning: He4 was not able to be linked\n",
      "warning: Ca40 was not able to be linked\n",
      "warning: Ne20 was not able to be linked\n",
      "warning: Ni62 was not able to be linked\n",
      "warning: Ne22 was not able to be linked\n",
      "warning: N14 was not able to be linked\n",
      "warning: Ni64 was not able to be linked\n",
      "warning: Si28 was not able to be linked\n",
      "warning: Sc43 was not able to be linked\n",
      "warning: Mg24 was not able to be linked\n",
      "warning: Ne21 was not able to be linked\n",
      "warning: Ni63 was not able to be linked\n",
      "warning: d was not able to be linked\n",
      "warning: P31 was not able to be linked\n",
      "warning: Ar36 was not able to be linked\n",
      "warning: He3 was not able to be linked\n",
      "warning: F18 was not able to be linked\n",
      "warning: C12 was not able to be linked\n",
      "warning: Al27 was not able to be linked\n",
      "warning: S32 was not able to be linked\n",
      "warning: N13 was not able to be linked\n",
      "warning: Zn60 was not able to be linked\n",
      "warning: Cl35 was not able to be linked\n",
      "warning: Ni65 was not able to be linked\n",
      "warning: O16 was not able to be linked\n"
     ]
    }
   ],
   "source": [
    "tl = pyna.TabularLibrary()\n",
    "rl = pyna.ReacLibLibrary()\n",
    "tlib = tl.linking_nuclei(nuc_list)\n",
    "rlib = rl.linking_nuclei(nuc_list)"
   ]
  },
  {
   "cell_type": "code",
   "execution_count": 6,
   "id": "3b648c68-5e15-40d9-9d49-a64f8c6451e6",
   "metadata": {},
   "outputs": [],
   "source": [
    "all_lib = rlib + tlib"
   ]
  },
  {
   "cell_type": "markdown",
   "id": "5d3642f4-da22-43b6-849d-5f822ce10c66",
   "metadata": {
    "tags": [],
    "user_expressions": []
   },
   "source": [
    "Find any duplicates between ReacLib and the Langanke rates"
   ]
  },
  {
   "cell_type": "code",
   "execution_count": 7,
   "id": "8f0e565e-d6b9-4acf-8343-92a6edfae41c",
   "metadata": {
    "tags": []
   },
   "outputs": [],
   "source": [
    "dupes = all_lib.find_duplicate_links()"
   ]
  },
  {
   "cell_type": "code",
   "execution_count": 8,
   "id": "d3e6e6b5-23bd-421b-85ed-1d89bd36e181",
   "metadata": {
    "tags": []
   },
   "outputs": [
    {
     "name": "stdout",
     "output_type": "stream",
     "text": [
      "n__p__weak__wc12       <class 'pynucastro.rates.rate.ReacLibRate'>\n",
      "n__p                   <class 'pynucastro.rates.rate.TabularRate'>\n",
      "\n",
      "Ca45__Sc45__weak__wc12 <class 'pynucastro.rates.rate.ReacLibRate'>\n",
      "Ca45__Sc45             <class 'pynucastro.rates.rate.TabularRate'>\n",
      "\n",
      "Ca47__Sc47__weak__wc12 <class 'pynucastro.rates.rate.ReacLibRate'>\n",
      "Ca47__Sc47             <class 'pynucastro.rates.rate.TabularRate'>\n",
      "\n",
      "Ca48__Sc48__weak__mo03 <class 'pynucastro.rates.rate.ReacLibRate'>\n",
      "Ca48__Sc48             <class 'pynucastro.rates.rate.TabularRate'>\n",
      "\n",
      "Sc46__Ti46__weak__wc12 <class 'pynucastro.rates.rate.ReacLibRate'>\n",
      "Sc46__Ti46             <class 'pynucastro.rates.rate.TabularRate'>\n",
      "\n",
      "Sc47__Ti47__weak__wc12 <class 'pynucastro.rates.rate.ReacLibRate'>\n",
      "Sc47__Ti47             <class 'pynucastro.rates.rate.TabularRate'>\n",
      "\n",
      "Sc48__Ti48__weak__wc12 <class 'pynucastro.rates.rate.ReacLibRate'>\n",
      "Sc48__Ti48             <class 'pynucastro.rates.rate.TabularRate'>\n",
      "\n",
      "Sc49__Ti49__weak__wc12 <class 'pynucastro.rates.rate.ReacLibRate'>\n",
      "Sc49__Ti49             <class 'pynucastro.rates.rate.TabularRate'>\n",
      "\n",
      "Ti45__Sc45__weak__wc12 <class 'pynucastro.rates.rate.ReacLibRate'>\n",
      "Ti45__Sc45             <class 'pynucastro.rates.rate.TabularRate'>\n",
      "\n",
      "Ti51__V51__weak__wc12  <class 'pynucastro.rates.rate.ReacLibRate'>\n",
      "Ti51__V51              <class 'pynucastro.rates.rate.TabularRate'>\n",
      "\n",
      "Ti52__V52__weak__wc12  <class 'pynucastro.rates.rate.ReacLibRate'>\n",
      "Ti52__V52              <class 'pynucastro.rates.rate.TabularRate'>\n",
      "\n",
      "V47__Ti47__weak__wc12  <class 'pynucastro.rates.rate.ReacLibRate'>\n",
      "V47__Ti47              <class 'pynucastro.rates.rate.TabularRate'>\n",
      "\n",
      "V48__Ti48__weak__wc12  <class 'pynucastro.rates.rate.ReacLibRate'>\n",
      "V48__Ti48              <class 'pynucastro.rates.rate.TabularRate'>\n",
      "\n",
      "V49__Ti49__weak__wc12  <class 'pynucastro.rates.rate.ReacLibRate'>\n",
      "V49__Ti49              <class 'pynucastro.rates.rate.TabularRate'>\n",
      "\n",
      "V50__Ti50__weak__mo03  <class 'pynucastro.rates.rate.ReacLibRate'>\n",
      "V50__Ti50              <class 'pynucastro.rates.rate.TabularRate'>\n",
      "\n",
      "V52__Cr52__weak__wc12  <class 'pynucastro.rates.rate.ReacLibRate'>\n",
      "V52__Cr52              <class 'pynucastro.rates.rate.TabularRate'>\n",
      "\n",
      "V53__Cr53__weak__wc12  <class 'pynucastro.rates.rate.ReacLibRate'>\n",
      "V53__Cr53              <class 'pynucastro.rates.rate.TabularRate'>\n",
      "\n",
      "V54__Cr54__weak__wc12  <class 'pynucastro.rates.rate.ReacLibRate'>\n",
      "V54__Cr54              <class 'pynucastro.rates.rate.TabularRate'>\n",
      "\n",
      "Cr48__V48__weak__wc12  <class 'pynucastro.rates.rate.ReacLibRate'>\n",
      "Cr48__V48              <class 'pynucastro.rates.rate.TabularRate'>\n",
      "\n",
      "Cr49__V49__weak__wc12  <class 'pynucastro.rates.rate.ReacLibRate'>\n",
      "Cr49__V49              <class 'pynucastro.rates.rate.TabularRate'>\n",
      "\n",
      "Cr51__V51__weak__wc12  <class 'pynucastro.rates.rate.ReacLibRate'>\n",
      "Cr51__V51              <class 'pynucastro.rates.rate.TabularRate'>\n",
      "\n",
      "Cr55__Mn55__weak__wc12 <class 'pynucastro.rates.rate.ReacLibRate'>\n",
      "Cr55__Mn55             <class 'pynucastro.rates.rate.TabularRate'>\n",
      "\n",
      "Cr56__Mn56__weak__wc12 <class 'pynucastro.rates.rate.ReacLibRate'>\n",
      "Cr56__Mn56             <class 'pynucastro.rates.rate.TabularRate'>\n",
      "\n",
      "Mn51__Cr51__weak__wc12 <class 'pynucastro.rates.rate.ReacLibRate'>\n",
      "Mn51__Cr51             <class 'pynucastro.rates.rate.TabularRate'>\n",
      "\n",
      "Mn52__Cr52__weak__wc12 <class 'pynucastro.rates.rate.ReacLibRate'>\n",
      "Mn52__Cr52             <class 'pynucastro.rates.rate.TabularRate'>\n",
      "\n",
      "Mn53__Cr53__weak__wc12 <class 'pynucastro.rates.rate.ReacLibRate'>\n",
      "Mn53__Cr53             <class 'pynucastro.rates.rate.TabularRate'>\n",
      "\n",
      "Mn54__Cr54__weak__wc12 <class 'pynucastro.rates.rate.ReacLibRate'>\n",
      "Mn54__Cr54             <class 'pynucastro.rates.rate.TabularRate'>\n",
      "\n",
      "Mn56__Fe56__weak__wc12 <class 'pynucastro.rates.rate.ReacLibRate'>\n",
      "Mn56__Fe56             <class 'pynucastro.rates.rate.TabularRate'>\n",
      "\n",
      "Mn57__Fe57__weak__wc12 <class 'pynucastro.rates.rate.ReacLibRate'>\n",
      "Mn57__Fe57             <class 'pynucastro.rates.rate.TabularRate'>\n",
      "\n",
      "Mn58__Fe58__weak__wc12 <class 'pynucastro.rates.rate.ReacLibRate'>\n",
      "Mn58__Fe58             <class 'pynucastro.rates.rate.TabularRate'>\n",
      "\n",
      "Fe52__Mn52__weak__wc12 <class 'pynucastro.rates.rate.ReacLibRate'>\n",
      "Fe52__Mn52             <class 'pynucastro.rates.rate.TabularRate'>\n",
      "\n",
      "Fe53__Mn53__weak__wc12 <class 'pynucastro.rates.rate.ReacLibRate'>\n",
      "Fe53__Mn53             <class 'pynucastro.rates.rate.TabularRate'>\n",
      "\n",
      "Fe55__Mn55__weak__wc12 <class 'pynucastro.rates.rate.ReacLibRate'>\n",
      "Fe55__Mn55             <class 'pynucastro.rates.rate.TabularRate'>\n",
      "\n",
      "Fe59__Co59__weak__wc12 <class 'pynucastro.rates.rate.ReacLibRate'>\n",
      "Fe59__Co59             <class 'pynucastro.rates.rate.TabularRate'>\n",
      "\n",
      "Fe60__Co60__weak__wc12 <class 'pynucastro.rates.rate.ReacLibRate'>\n",
      "Fe60__Co60             <class 'pynucastro.rates.rate.TabularRate'>\n",
      "\n",
      "Co54__Fe54__weak__wc12 <class 'pynucastro.rates.rate.ReacLibRate'>\n",
      "Co54__Fe54             <class 'pynucastro.rates.rate.TabularRate'>\n",
      "\n",
      "Co55__Fe55__weak__wc12 <class 'pynucastro.rates.rate.ReacLibRate'>\n",
      "Co55__Fe55             <class 'pynucastro.rates.rate.TabularRate'>\n",
      "\n",
      "Co56__Fe56__weak__wc12 <class 'pynucastro.rates.rate.ReacLibRate'>\n",
      "Co56__Fe56             <class 'pynucastro.rates.rate.TabularRate'>\n",
      "\n",
      "Co57__Fe57__weak__wc12 <class 'pynucastro.rates.rate.ReacLibRate'>\n",
      "Co57__Fe57             <class 'pynucastro.rates.rate.TabularRate'>\n",
      "\n",
      "Co58__Fe58__weak__wc12 <class 'pynucastro.rates.rate.ReacLibRate'>\n",
      "Co58__Fe58             <class 'pynucastro.rates.rate.TabularRate'>\n",
      "\n",
      "Co60__Ni60__weak__wc12 <class 'pynucastro.rates.rate.ReacLibRate'>\n",
      "Co60__Ni60             <class 'pynucastro.rates.rate.TabularRate'>\n",
      "\n",
      "Co61__Ni61__weak__wc12 <class 'pynucastro.rates.rate.ReacLibRate'>\n",
      "Co61__Ni61             <class 'pynucastro.rates.rate.TabularRate'>\n",
      "\n",
      "Ni56__Co56__weak__wc12 <class 'pynucastro.rates.rate.ReacLibRate'>\n",
      "Ni56__Co56             <class 'pynucastro.rates.rate.TabularRate'>\n",
      "\n",
      "Ni57__Co57__weak__wc12 <class 'pynucastro.rates.rate.ReacLibRate'>\n",
      "Ni57__Co57             <class 'pynucastro.rates.rate.TabularRate'>\n",
      "\n",
      "Ni59__Co59__weak__wc12 <class 'pynucastro.rates.rate.ReacLibRate'>\n",
      "Ni59__Co59             <class 'pynucastro.rates.rate.TabularRate'>\n",
      "\n",
      "Cu59__Ni59__weak__wc12 <class 'pynucastro.rates.rate.ReacLibRate'>\n",
      "Cu59__Ni59             <class 'pynucastro.rates.rate.TabularRate'>\n",
      "\n"
     ]
    }
   ],
   "source": [
    "for d in dupes:\n",
    "    for rate in d:\n",
    "        print(f\"{rate.fname:22} {type(rate)}\")\n",
    "    print()"
   ]
  },
  {
   "cell_type": "markdown",
   "id": "0bbee2a7-da26-4520-866a-cea586f92449",
   "metadata": {
    "user_expressions": []
   },
   "source": [
    "In each case, we want the `TabularRate` instead of the `ReacLibRate`"
   ]
  },
  {
   "cell_type": "code",
   "execution_count": 9,
   "id": "6ca38edb-c044-4b9d-ab08-8dc3a621c700",
   "metadata": {
    "tags": []
   },
   "outputs": [],
   "source": [
    "from pynucastro.rates import ReacLibRate\n",
    "rates_to_remove = []\n",
    "for d in dupes:\n",
    "    rates_to_remove += [r for r in d if isinstance(r, ReacLibRate)]\n",
    "\n",
    "for r in rates_to_remove:\n",
    "    all_lib.remove_rate(r)"
   ]
  },
  {
   "cell_type": "code",
   "execution_count": 10,
   "id": "b3faded0-9efd-4dfa-8d43-8e9114eb1cf8",
   "metadata": {
    "tags": []
   },
   "outputs": [
    {
     "data": {
      "text/plain": [
       "853"
      ]
     },
     "execution_count": 10,
     "metadata": {},
     "output_type": "execute_result"
    }
   ],
   "source": [
    "len(all_lib.get_rates())"
   ]
  },
  {
   "cell_type": "markdown",
   "id": "c2d38123-c987-4ef8-8c7a-df20838d2987",
   "metadata": {},
   "source": [
    "## Create the RateCollection"
   ]
  },
  {
   "cell_type": "code",
   "execution_count": 11,
   "id": "86f62e44-5fe3-4d9b-997f-725cc9d21b9b",
   "metadata": {
    "tags": []
   },
   "outputs": [],
   "source": [
    "rc = pyna.RateCollection(libraries=[all_lib])"
   ]
  },
  {
   "cell_type": "markdown",
   "id": "6a4e1097-ca92-4571-8b28-0b732271ec7d",
   "metadata": {
    "user_expressions": []
   },
   "source": [
    "Finally let's plot the network"
   ]
  },
  {
   "cell_type": "code",
   "execution_count": 12,
   "id": "aa4e319d-471f-4460-b665-fdd0ae0d1791",
   "metadata": {
    "tags": []
   },
   "outputs": [
    {
     "data": {
      "image/png": "[encoded data removed]",
      "text/plain": [
       "<Figure size 1500x800 with 1 Axes>"
      ]
     },
     "metadata": {},
     "output_type": "display_data"
    }
   ],
   "source": [
    "fig = rc.plot(hide_xalpha=True, hide_xp=True, rotated=True,\n",
    "              size=(1500, 800), node_shape=\"s\", node_size=400, node_font_size=10, node_color=\"0.5\")"
   ]
  },
  {
   "cell_type": "code",
   "execution_count": 13,
   "id": "5e9ce3b3-2de3-4be5-9e60-f4f8cf113d9d",
   "metadata": {
    "tags": []
   },
   "outputs": [],
   "source": [
    "fig.savefig(\"nse_test.png\")"
   ]
  },
  {
   "cell_type": "markdown",
   "id": "0fb9bb4e-8e4c-41b0-96cf-1bc8eefd9392",
   "metadata": {
    "user_expressions": []
   },
   "source": [
    "## Test NSE solve"
   ]
  },
  {
   "cell_type": "code",
   "execution_count": 14,
   "id": "b00fd37c-0e9f-44ca-9f7e-61cf5d6f8b50",
   "metadata": {
    "tags": []
   },
   "outputs": [],
   "source": [
    "rho = 1.8e9\n",
    "T = 6.6e9\n",
    "Ye = 0.464"
   ]
  },
  {
   "cell_type": "code",
   "execution_count": 15,
   "id": "7ff0ed3f-38ce-4234-b46a-5254506528fb",
   "metadata": {
    "tags": []
   },
   "outputs": [],
   "source": [
    "comp, sol = rc.get_comp_nse(rho, T, Ye, use_coulomb_corr=True, return_sol=True, tol=1.e-12)"
   ]
  },
  {
   "cell_type": "code",
   "execution_count": 16,
   "id": "8fdb2c11-4eb3-436f-82d1-cfa739eef753",
   "metadata": {},
   "outputs": [
    {
     "data": {
      "text/plain": [
       "52.10820218271818"
      ]
     },
     "execution_count": 16,
     "metadata": {},
     "output_type": "execute_result"
    }
   ],
   "source": [
    "abar = 0.0\n",
    "for n in comp.X:\n",
    "    abar += comp.X[n] / n.A\n",
    "1.0/abar"
   ]
  },
  {
   "cell_type": "code",
   "execution_count": 17,
   "id": "f291a79e-afa7-40ab-bb0a-a0915f511c12",
   "metadata": {
    "tags": []
   },
   "outputs": [
    {
     "data": {
      "image/png": "[encoded data removed]",
      "text/plain": [
       "<Figure size 900x500 with 2 Axes>"
      ]
     },
     "metadata": {},
     "output_type": "display_data"
    }
   ],
   "source": [
    "fig = comp.plot()"
   ]
  },
  {
   "cell_type": "markdown",
   "id": "e48df687-3d95-4cc9-bdfa-5710c14f825e",
   "metadata": {
    "user_expressions": []
   },
   "source": [
    "## Outputs\n",
    "\n",
    "We want our NSE table to take the form:\n",
    "\n",
    "$\\mathrm{NSE}(\\rho, T, Y_e) \\rightarrow (\\bar{A}, \\langle B/A\\rangle, dY_e/dt, d\\bar{A}/dt, \\tilde{X}_k, \\epsilon_{\\nu,\\mathrm{weak}})$\n",
    "\n",
    "where:\n",
    "\n",
    "* $\\bar{A}$ is the mean molecular weight of the full set of nuclei\n",
    "  \n",
    "* $\\langle B/A\\rangle$ is the averaging binding energy per nucleon of the full set of nuclei.  This is constructed\n",
    "  as\n",
    "  \n",
    "  $$\\left \\langle \\frac{B}{A} \\right \\rangle = \\sum_k Y_k B_k$$\n",
    "  \n",
    "  where $B_k$ is the binding energy of nucleus $k$\n",
    "  \n",
    "\n",
    "* $dY_e/dt$ is the time-derivative of the electron fraction *due to only electron-captures and beta-decays*\n",
    "\n",
    "  This can be constructed as:\n",
    "  \n",
    "  $$\\frac{dY_e}{dt} = \\sum_k Z_k \\frac{dY_k}{dt}$$\n",
    "  \n",
    "  where $dY/dt$ is what is returned from the reaction network -- the change in molar abundances with time.\n",
    "  \n",
    "* $d\\bar{A}/dt$ is the time-derivative of the mean molecular weight *due to only electron-captures and beta-decays*\n",
    "\n",
    "  This can be constructed from the definition of $\\bar{A}$\n",
    "  \n",
    "  $$\\bar{A} = \\left ( \\sum_k Y_k \\right )^{-1}$$\n",
    "  \n",
    "  by taking the time-derivative:\n",
    "  \n",
    "  $$\\frac{d\\bar{A}}{dt} = -\\bar{A}^2 \\sum_k \\frac{dY_k}{dt}$$\n",
    "\n",
    "* $\\tilde{X}_k$ is are the reduced set of nuclei mass fractions, obtained by binning the full set of mass fractions\n",
    "  obtained via NSE down to the collection we will carry on the grid.\n",
    "\n",
    "* $\\epsilon_{\\nu,\\mathrm{weak}}$ are the neutrino losses from the weak reactions"
   ]
  },
  {
   "cell_type": "markdown",
   "id": "284e6cda-dde1-4ed3-a6de-04dd1ebbe4fa",
   "metadata": {
    "tags": [],
    "user_expressions": []
   },
   "source": [
    "### mean molecular weight\n",
    "\n",
    "We can get this directly from the `Composition` object:"
   ]
  },
  {
   "cell_type": "code",
   "execution_count": 18,
   "id": "313f595f-8fd6-45a5-8a65-74405d62c8f8",
   "metadata": {
    "tags": []
   },
   "outputs": [
    {
     "data": {
      "text/plain": [
       "52.10820218271818"
      ]
     },
     "execution_count": 18,
     "metadata": {},
     "output_type": "execute_result"
    }
   ],
   "source": [
    "abar = comp.eval_abar()\n",
    "abar"
   ]
  },
  {
   "cell_type": "markdown",
   "id": "21b7f7c6-ff92-4705-9a2a-4ccbf4da3e47",
   "metadata": {
    "user_expressions": []
   },
   "source": [
    "### average binding energy per nucleon\n",
    "\n",
    "This can also be found via the composition object.  Note that the `Nucleus.nucbind` is already *per nucleon*"
   ]
  },
  {
   "cell_type": "code",
   "execution_count": 19,
   "id": "801fa5bf-83f5-4404-9523-6047910ce6ed",
   "metadata": {
    "tags": []
   },
   "outputs": [
    {
     "data": {
      "text/plain": [
       "8.757823874219824"
      ]
     },
     "execution_count": 19,
     "metadata": {},
     "output_type": "execute_result"
    }
   ],
   "source": [
    "bea = sum(q.nucbind * comp.X[q] for q in rc.unique_nuclei)\n",
    "bea"
   ]
  },
  {
   "cell_type": "markdown",
   "id": "0891182a-84d8-4049-80e7-c36117fd37ee",
   "metadata": {
    "tags": [],
    "user_expressions": []
   },
   "source": [
    "### time-derivatives\n",
    "\n",
    "For $dY_e/dt$ and $d\\bar{A}/dt$, we need the ydots for just the tabular rates"
   ]
  },
  {
   "cell_type": "code",
   "execution_count": 20,
   "id": "d766fc20-53dc-4225-8b7f-8e8825972afd",
   "metadata": {
    "tags": []
   },
   "outputs": [],
   "source": [
    "from pynucastro.screening import potekhin_1998\n",
    "ydots = rc.evaluate_ydots(rho, T, comp, screen_func=potekhin_1998,\n",
    "                          rate_filter=lambda r: isinstance(r, pyna.rates.TabularRate))"
   ]
  },
  {
   "cell_type": "code",
   "execution_count": 21,
   "id": "84cc45a9-1892-4705-825f-46a92184d694",
   "metadata": {},
   "outputs": [
    {
     "data": {
      "text/plain": [
       "{n: 0.0006346506303224716,\n",
       " p: -0.0006346506303224716,\n",
       " d: 0,\n",
       " He3: 0,\n",
       " He4: 0,\n",
       " C12: 0,\n",
       " N13: 0,\n",
       " N14: 0,\n",
       " O16: 0,\n",
       " F18: 0,\n",
       " Ne20: 0,\n",
       " Ne21: 0,\n",
       " Ne22: 0,\n",
       " Na23: 0,\n",
       " Mg24: 0,\n",
       " Al27: 0,\n",
       " Si28: 0,\n",
       " P31: 0,\n",
       " S32: 0,\n",
       " Cl35: 0,\n",
       " Ar36: 0,\n",
       " K39: 0,\n",
       " Ca40: 0,\n",
       " Ca45: 1.0446102494105053e-07,\n",
       " Ca46: 2.9661842665261547e-08,\n",
       " Ca47: 4.7719558956034354e-09,\n",
       " Ca48: 1.1901935394486482e-09,\n",
       " Sc43: 0,\n",
       " Sc45: 5.849051764944439e-08,\n",
       " Sc46: 2.99028428023127e-07,\n",
       " Sc47: 8.898631678399081e-07,\n",
       " Sc48: 3.399439413614359e-07,\n",
       " Sc49: 3.0102025877182856e-07,\n",
       " Ti44: 0,\n",
       " Ti45: -1.6295154259049493e-07,\n",
       " Ti46: -3.286902706883885e-07,\n",
       " Ti47: -7.503967331170383e-08,\n",
       " Ti48: 3.7714000811612757e-06,\n",
       " Ti49: 1.596130044521697e-05,\n",
       " Ti50: 9.977443215716377e-06,\n",
       " Ti51: 6.6276750495625016e-06,\n",
       " Ti52: 2.9551379390441167e-07,\n",
       " V47: -8.195954504238076e-07,\n",
       " V48: -3.926158500027479e-06,\n",
       " V49: -1.2576237633584542e-05,\n",
       " V50: 5.6809038420201324e-05,\n",
       " V51: 0.00011500155751481232,\n",
       " V52: 0.00011071485096381298,\n",
       " V53: 2.5339002689647373e-05,\n",
       " V54: 1.3400792225471498e-07,\n",
       " Cr48: -1.8637571603468124e-07,\n",
       " Cr49: -3.6860830704042566e-06,\n",
       " Cr50: -6.67864816359177e-05,\n",
       " Cr51: -0.00011266939103190762,\n",
       " Cr52: -4.918782228769699e-05,\n",
       " Cr53: 0.00036338583954758426,\n",
       " Cr54: 0.00026801487511336807,\n",
       " Cr55: 4.2140324756815996e-05,\n",
       " Cr56: 2.0140278879632494e-06,\n",
       " Mn51: -8.959841532467209e-06,\n",
       " Mn52: -6.095990805000377e-05,\n",
       " Mn53: -0.0003656750532726086,\n",
       " Mn54: 0.0002753273490938034,\n",
       " Mn55: 0.0009870392010937203,\n",
       " Mn56: 0.0007038127062038469,\n",
       " Mn57: 0.00012792206837703031,\n",
       " Mn58: 1.4545197455245418e-06,\n",
       " Fe52: -8.62634420016637e-07,\n",
       " Fe53: -2.3049788964623023e-05,\n",
       " Fe54: -0.0005432998479306308,\n",
       " Fe55: -0.0009675111959398593,\n",
       " Fe56: -0.0004651235553195307,\n",
       " Fe57: 0.0004898580950904281,\n",
       " Fe58: 0.000263343166684463,\n",
       " Fe59: 5.390555221699837e-05,\n",
       " Fe60: 4.528646646545631e-06,\n",
       " Co54: -1.7638419879544862e-07,\n",
       " Co55: -6.16683299106771e-05,\n",
       " Co56: -0.0002371168395174725,\n",
       " Co57: -0.000577562506987377,\n",
       " Co58: -2.574031584037719e-05,\n",
       " Co59: 0.0005051544229022399,\n",
       " Co60: 0.00037059735355195964,\n",
       " Co61: 0.00011876197862846228,\n",
       " Ni56: -3.586339254806925e-06,\n",
       " Ni57: -4.021765648008136e-05,\n",
       " Ni58: -0.0002390573705896103,\n",
       " Ni59: -0.0005573910393982045,\n",
       " Ni60: -0.00037512600019850526,\n",
       " Ni61: -0.00011876197862846228,\n",
       " Ni62: 0,\n",
       " Ni63: 0,\n",
       " Ni64: 0,\n",
       " Ni65: 0,\n",
       " Cu59: -1.6689357210337184e-06,\n",
       " Zn60: 0}"
      ]
     },
     "execution_count": 21,
     "metadata": {},
     "output_type": "execute_result"
    }
   ],
   "source": [
    "ydots"
   ]
  },
  {
   "cell_type": "code",
   "execution_count": 22,
   "id": "9b64d04e-7ae6-4644-a846-b2df648302f8",
   "metadata": {
    "tags": []
   },
   "outputs": [
    {
     "data": {
      "text/plain": [
       "-0.00678830594058978"
      ]
     },
     "execution_count": 22,
     "metadata": {},
     "output_type": "execute_result"
    }
   ],
   "source": [
    "dYedt = sum(q.Z * ydots[q] for q in rc.unique_nuclei)\n",
    "dYedt"
   ]
  },
  {
   "cell_type": "code",
   "execution_count": 23,
   "id": "bb0d147a-8cff-4f94-9b71-e16a80c3ba04",
   "metadata": {
    "tags": []
   },
   "outputs": [
    {
     "data": {
      "text/plain": [
       "1.0418631669420682e-15"
      ]
     },
     "execution_count": 23,
     "metadata": {},
     "output_type": "execute_result"
    }
   ],
   "source": [
    "dAbardt =- -abar**2 * sum(ydots[q] for q in rc.unique_nuclei)\n",
    "dAbardt"
   ]
  },
  {
   "cell_type": "markdown",
   "id": "7c9e6b53-ecd2-47ed-bbd6-b8e45e28030b",
   "metadata": {},
   "source": [
    "### Neutrino losses"
   ]
  },
  {
   "cell_type": "code",
   "execution_count": 24,
   "id": "75c9b0f8-5c95-4f33-b1bd-56bc5c219c13",
   "metadata": {},
   "outputs": [
    {
     "data": {
      "text/plain": [
       "2.0289817506466132e+16"
      ]
     },
     "execution_count": 24,
     "metadata": {},
     "output_type": "execute_result"
    }
   ],
   "source": [
    "    _, enu = rc.evaluate_energy_generation(rho, T, comp, screen_func=potekhin_1998, return_enu=True)\n",
    "enu"
   ]
  },
  {
   "cell_type": "markdown",
   "id": "6ec656a2-b6bb-4f9d-941a-4dabc4ca7681",
   "metadata": {
    "tags": []
   },
   "source": [
    "### reduced composition"
   ]
  },
  {
   "cell_type": "code",
   "execution_count": 25,
   "id": "9bc0d08d-1070-4b42-b61d-e5cf2facd679",
   "metadata": {
    "tags": []
   },
   "outputs": [
    {
     "data": {
      "text/plain": [
       "{n: 8.169037085731664e-06,\n",
       " p: 9.055872656307402e-05,\n",
       " He3: 2.2816281611288373e-11,\n",
       " He4: 0.005141457401413937,\n",
       " C12: 1.0324294800325628e-07,\n",
       " N14: 3.5947335188068174e-11,\n",
       " O16: 1.3110395512730868e-07,\n",
       " Ne20: 4.2954698651381495e-09,\n",
       " Mg24: 4.1825916870265633e-07,\n",
       " Si28: 2.8259378637801294e-05,\n",
       " S32: 2.624325405695737e-05,\n",
       " Ar36: 2.0312872101959887e-05,\n",
       " Ca40: 6.570111614346066e-06,\n",
       " Ti44: 0.0006581436017294,\n",
       " Cr48: 0.02743261593609235,\n",
       " Fe52: 0.13998944464897595,\n",
       " Fe54: 0.826582340479613,\n",
       " Ni56: 1.5227591828655356e-05}"
      ]
     },
     "execution_count": 25,
     "metadata": {},
     "output_type": "execute_result"
    }
   ],
   "source": [
    "aprox19_comp = [Nucleus(\"he3\"), Nucleus(\"he4\"), Nucleus(\"c12\"), Nucleus(\"n14\"),\n",
    "                Nucleus(\"o16\"), Nucleus(\"ne20\"), Nucleus(\"mg24\"), Nucleus(\"si28\"),\n",
    "                Nucleus(\"s32\"), Nucleus(\"ar36\"), Nucleus(\"ca40\"), Nucleus(\"ti44\"),\n",
    "                Nucleus(\"cr48\"), Nucleus(\"fe52\"), Nucleus(\"fe54\"), Nucleus(\"ni56\"),\n",
    "                Nucleus(\"n\"), Nucleus(\"p\")]\n",
    "reduced_comp = comp.bin_as(aprox19_comp, exclude=[Nucleus(\"ni56\")])\n",
    "reduced_comp.X"
   ]
  },
  {
   "cell_type": "markdown",
   "id": "7ce7ab7d-c4d7-447e-9718-8dd0784ea7d0",
   "metadata": {
    "tags": [],
    "user_expressions": []
   },
   "source": [
    "## Create the table"
   ]
  },
  {
   "cell_type": "code",
   "execution_count": null,
   "id": "536efa28-94ca-42bf-9df1-8d99e101e371",
   "metadata": {
    "tags": []
   },
   "outputs": [],
   "source": [
    "import numpy as np"
   ]
  },
  {
   "cell_type": "markdown",
   "id": "6b76433e-cb21-4beb-b897-7ff9fa6fe4ce",
   "metadata": {
    "user_expressions": []
   },
   "source": [
    "$Y_e \\sim 0.43$ is basically how low `aprox21` goes"
   ]
  },
  {
   "cell_type": "code",
   "execution_count": null,
   "id": "998352a6-702c-4bc2-b038-450f58e351e1",
   "metadata": {
    "tags": []
   },
   "outputs": [],
   "source": [
    "#Ts = np.logspace(9, 10.4, 71)\n",
    "#Ts = np.logspace(np.log10(3.e9), np.log10(2.5e10), 21)\n",
    "Ts = np.logspace(np.log10(3.e9), np.log10(2.e10), 51)\n",
    "rhos = np.logspace(7, 10, 31)\n",
    "yes = np.linspace(0.43, 0.5, 15)"
   ]
  },
  {
   "cell_type": "markdown",
   "id": "60d7c85d-42bf-4418-88c1-310708fc8256",
   "metadata": {
    "tags": [],
    "user_expressions": []
   },
   "source": [
    "we will try to cache the initial guess of $\\mu_p, \\mu_n$ as a function of $\\rho, Y_e$"
   ]
  },
  {
   "cell_type": "code",
   "execution_count": null,
   "id": "f3454eda-7ab5-4244-b52d-344f2149c5be",
   "metadata": {
    "tags": []
   },
   "outputs": [],
   "source": [
    "mu_p0 = -3.5\n",
    "mu_n0 = -15.0"
   ]
  },
  {
   "cell_type": "code",
   "execution_count": null,
   "id": "41b8e58f-fcb4-42c1-985a-abec56e005eb",
   "metadata": {
    "tags": []
   },
   "outputs": [],
   "source": [
    "mu_p = np.ones((len(rhos), len(yes)), dtype=np.float64) * mu_p0\n",
    "mu_n = np.ones((len(rhos), len(yes)), dtype=np.float64) * mu_n0"
   ]
  },
  {
   "cell_type": "markdown",
   "id": "d919ec9a-2e17-4a59-93fc-46b354ac59db",
   "metadata": {},
   "source": [
    "The first time through we will be very slow, since we are using the same initial guess for\n",
    "the chemical potentials everywhere.  But after that, we will use the $(\\mu_p, \\mu_n)$\n",
    "from the old temperature at the same $(\\rho, Y_e)$ as the initial guess for the new temperature.\n",
    "This should hopefully have it converge faster."
   ]
  },
  {
   "cell_type": "code",
   "execution_count": null,
   "id": "555d87ff-a104-47d1-9599-d94c82b4bcda",
   "metadata": {
    "tags": []
   },
   "outputs": [],
   "source": [
    "for T in reversed(Ts):\n",
    "    print(f\"working on {T=}\")\n",
    "    for irho, rho in enumerate(reversed(rhos)):\n",
    "        for iye, ye in enumerate(reversed(yes)):\n",
    "            initial_guess = (mu_p[irho, iye], mu_n[irho, iye])\n",
    "            try:\n",
    "                comp, sol = rc.get_comp_nse(rho, T, ye, use_coulomb_corr=True,\n",
    "                                            init_guess=initial_guess, return_sol=True)\n",
    "            except ValueError:\n",
    "                initial_guess = (-3.5, -15)\n",
    "                comp, sol = rc.get_comp_nse(rho, T, ye, use_coulomb_corr=True,\n",
    "                                            init_guess=initial_guess, return_sol=True)\n",
    "                \n",
    "            mu_p[irho, iye] = sol[0]\n",
    "            mu_n[irho, iye] = sol[1]"
   ]
  },
  {
   "cell_type": "code",
   "execution_count": null,
   "id": "aed1c3e8-ea52-4b58-9928-8b7872e27b51",
   "metadata": {
    "tags": []
   },
   "outputs": [],
   "source": [
    "print(T, rho, ye)"
   ]
  },
  {
   "cell_type": "code",
   "execution_count": null,
   "id": "ac96d6be-1204-419d-9092-eefa72c157ec",
   "metadata": {
    "tags": []
   },
   "outputs": [],
   "source": [
    "print(sol)"
   ]
  },
  {
   "cell_type": "code",
   "execution_count": null,
   "id": "ed275651-931e-4800-a72a-05c5a28c0ee6",
   "metadata": {
    "tags": []
   },
   "outputs": [],
   "source": [
    "initial_guess"
   ]
  },
  {
   "cell_type": "code",
   "execution_count": null,
   "id": "84489869-ff31-4242-a585-1c3db65fbde2",
   "metadata": {},
   "outputs": [],
   "source": []
  }
 ],
 "metadata": {
  "kernelspec": {
   "display_name": "Python 3 (ipykernel)",
   "language": "python",
   "name": "python3"
  },
  "language_info": {
   "codemirror_mode": {
    "name": "ipython",
    "version": 3
   },
   "file_extension": ".py",
   "mimetype": "text/x-python",
   "name": "python",
   "nbconvert_exporter": "python",
   "pygments_lexer": "ipython3",
   "version": "3.11.5"
  }
 },
 "nbformat": 4,
 "nbformat_minor": 5
}
